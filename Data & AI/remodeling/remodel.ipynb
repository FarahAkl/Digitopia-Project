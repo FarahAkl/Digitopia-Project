{
  "nbformat": 4,
  "nbformat_minor": 0,
  "metadata": {
    "colab": {
      "provenance": []
    },
    "kernelspec": {
      "name": "python3",
      "display_name": "Python 3"
    },
    "language_info": {
      "name": "python"
    }
  },
  "cells": [
    {
      "cell_type": "markdown",
      "source": [
        "After the **previous modeling**, we faced some challenges. Therefore, we decided to **split the available data (5 governorates)** into two parts:  \n",
        "\n",
        "- **Training:** 3 governorates (**Dakahlia, Fayoum, and Matrouh**)  \n",
        "- **Testing:** 2 governorates (**reserved for evaluating the application**)  \n",
        "\n",
        "In this notebook, we use the **best-performing model** from the previous experiments we made and **train it on the selected training data**.  \n",
        "\n",
        "At the end of the notebook, we **save both the preprocessing pipeline and the trained model**.  \n",
        "This way, any **new data provided by a user** will first go through the **same preprocessing steps** before being passed into the model to **generate predictions for desertification** in the **desired location**.  "
      ],
      "metadata": {
        "id": "t0FCntyPGgOS"
      }
    },
    {
      "cell_type": "markdown",
      "source": [
        "# **Desertification Dataset CSV File Structure**\n",
        "\n",
        "This notebook uses a dataset collected from **Google Earth Engine (GEE)** for three Egyptian governorates: **Dakahlia, Fayoum, Matrouh**.  \n",
        "The dataset includes **NDVI values**, **geographic coordinates** (longitude & latitude), **soil properties**, and **population data**.  \n",
        "\n",
        "All CSV files contain the following columns:\n",
        "\n",
        "| Column      | Description |\n",
        "|------------|-------------|\n",
        "| longitude  | Longitude of the sample point |\n",
        "| latitude   | Latitude of the sample point |\n",
        "| year       | Year of the observation |\n",
        "| month      | Month of the observation |\n",
        "| area       | Region name |\n",
        "| ndvi       | Normalized Difference Vegetation Index (NDVI) from MODIS, range -1 to 1 |\n",
        "| t2m_c      | Temperature at 2 meters (°C) |\n",
        "| td2m_c     | Dewpoint temperature at 2 meters (°C) |\n",
        "| rh_pct     | Relative humidity (%) |\n",
        "| tp_m       | Total precipitation (meters) |\n",
        "| ssrd_jm2   | Surface solar radiation downward (J/m²) |\n",
        "| LC_Type1   | Land cover type from WorldCover |\n",
        "| sand       | Soil sand fraction (%) |\n",
        "| silt       | Soil silt fraction (%) |\n",
        "| clay       | Soil clay fraction (%) |\n",
        "| soc        | Soil organic carbon (%) |\n",
        "| ph         | Soil pH |\n",
        "| bdod       | Soil bulk density (g/cm³) |\n",
        "| cec        | Soil cation exchange capacity (cmol/kg) |\n",
        "| POP        | Population from WorldPop |\n"
      ],
      "metadata": {
        "id": "wmSbmtq3WA_E"
      }
    },
    {
      "cell_type": "code",
      "metadata": {
        "colab": {
          "base_uri": "https://localhost:8080/"
        },
        "id": "71c4972b",
        "outputId": "5e241003-cc5e-4635-8fbf-e9cd1b071bca"
      },
      "source": [
        "%pip install optuna"
      ],
      "execution_count": null,
      "outputs": [
        {
          "output_type": "stream",
          "name": "stdout",
          "text": [
            "Collecting optuna\n",
            "  Downloading optuna-4.5.0-py3-none-any.whl.metadata (17 kB)\n",
            "Requirement already satisfied: alembic>=1.5.0 in /usr/local/lib/python3.12/dist-packages (from optuna) (1.16.5)\n",
            "Collecting colorlog (from optuna)\n",
            "  Downloading colorlog-6.9.0-py3-none-any.whl.metadata (10 kB)\n",
            "Requirement already satisfied: numpy in /usr/local/lib/python3.12/dist-packages (from optuna) (2.0.2)\n",
            "Requirement already satisfied: packaging>=20.0 in /usr/local/lib/python3.12/dist-packages (from optuna) (25.0)\n",
            "Requirement already satisfied: sqlalchemy>=1.4.2 in /usr/local/lib/python3.12/dist-packages (from optuna) (2.0.43)\n",
            "Requirement already satisfied: tqdm in /usr/local/lib/python3.12/dist-packages (from optuna) (4.67.1)\n",
            "Requirement already satisfied: PyYAML in /usr/local/lib/python3.12/dist-packages (from optuna) (6.0.2)\n",
            "Requirement already satisfied: Mako in /usr/local/lib/python3.12/dist-packages (from alembic>=1.5.0->optuna) (1.3.10)\n",
            "Requirement already satisfied: typing-extensions>=4.12 in /usr/local/lib/python3.12/dist-packages (from alembic>=1.5.0->optuna) (4.15.0)\n",
            "Requirement already satisfied: greenlet>=1 in /usr/local/lib/python3.12/dist-packages (from sqlalchemy>=1.4.2->optuna) (3.2.4)\n",
            "Requirement already satisfied: MarkupSafe>=0.9.2 in /usr/local/lib/python3.12/dist-packages (from Mako->alembic>=1.5.0->optuna) (3.0.2)\n",
            "Downloading optuna-4.5.0-py3-none-any.whl (400 kB)\n",
            "\u001b[2K   \u001b[90m━━━━━━━━━━━━━━━━━━━━━━━━━━━━━━━━━━━━━━━━\u001b[0m \u001b[32m400.9/400.9 kB\u001b[0m \u001b[31m8.6 MB/s\u001b[0m eta \u001b[36m0:00:00\u001b[0m\n",
            "\u001b[?25hDownloading colorlog-6.9.0-py3-none-any.whl (11 kB)\n",
            "Installing collected packages: colorlog, optuna\n",
            "Successfully installed colorlog-6.9.0 optuna-4.5.0\n"
          ]
        }
      ]
    },
    {
      "cell_type": "markdown",
      "source": [
        "# **Data Gathering**"
      ],
      "metadata": {
        "id": "TmElZED8Gyjj"
      }
    },
    {
      "cell_type": "code",
      "source": [
        "# Import libraries\n",
        "import pandas as pd\n",
        "import numpy as np\n",
        "import matplotlib.pyplot as plt\n",
        "import joblib\n",
        "import optuna\n",
        "from sklearn.model_selection import train_test_split\n",
        "from sklearn.compose import ColumnTransformer\n",
        "from sklearn.pipeline import Pipeline\n",
        "from sklearn.preprocessing import StandardScaler, OneHotEncoder\n",
        "from sklearn.metrics import mean_squared_error, r2_score\n",
        "from lightgbm import LGBMRegressor"
      ],
      "metadata": {
        "id": "difRgHNi5ByY"
      },
      "execution_count": null,
      "outputs": []
    },
    {
      "cell_type": "code",
      "execution_count": null,
      "metadata": {
        "colab": {
          "base_uri": "https://localhost:8080/"
        },
        "id": "iJZxEknk4qJJ",
        "outputId": "30f273dd-17e2-4098-df76-9b382a8576db"
      },
      "outputs": [
        {
          "output_type": "stream",
          "name": "stdout",
          "text": [
            "Mounted at /content/drive\n"
          ]
        }
      ],
      "source": [
        "from google.colab import drive\n",
        "drive.mount('/content/drive')"
      ]
    },
    {
      "cell_type": "code",
      "source": [
        "file_path = '/content/drive/MyDrive/grad_project_data/des3_df.csv'"
      ],
      "metadata": {
        "id": "DkOg9u3c4yqY"
      },
      "execution_count": null,
      "outputs": []
    },
    {
      "cell_type": "code",
      "source": [
        "des_df = pd.read_csv(file_path)"
      ],
      "metadata": {
        "id": "Ah8GZwow49FB"
      },
      "execution_count": null,
      "outputs": []
    },
    {
      "cell_type": "code",
      "source": [
        "print(\"Data shape:\", des_df.shape)"
      ],
      "metadata": {
        "colab": {
          "base_uri": "https://localhost:8080/"
        },
        "id": "gBhqc8jW5TC9",
        "outputId": "9dc33cec-93d2-4086-c3b7-f8b26449552f"
      },
      "execution_count": null,
      "outputs": [
        {
          "output_type": "stream",
          "name": "stdout",
          "text": [
            "Data shape: (104363, 20)\n"
          ]
        }
      ]
    },
    {
      "cell_type": "code",
      "source": [
        "des_df.head()"
      ],
      "metadata": {
        "colab": {
          "base_uri": "https://localhost:8080/",
          "height": 226
        },
        "id": "V1H4przE5WHQ",
        "outputId": "c2d3d176-d261-450d-e406-69dcf942af17"
      },
      "execution_count": null,
      "outputs": [
        {
          "output_type": "execute_result",
          "data": {
            "text/plain": [
              "   longitude   latitude  year  month      area     ndvi      t2m_c    td2m_c  \\\n",
              "0  31.158066  30.286700  2025      1  Dakahlia  0.70215  15.561177  7.861838   \n",
              "1  31.113150  30.610094  2025      1  Dakahlia  0.51000  15.568003  8.534099   \n",
              "2  31.310780  30.295683  2025      1  Dakahlia  0.59845  15.485617  7.735447   \n",
              "3  31.256880  30.430430  2025      1  Dakahlia  0.57405  15.449718  7.959476   \n",
              "4  31.445526  30.565178  2025      1  Dakahlia  0.53560  15.528049  8.544456   \n",
              "\n",
              "      rh_pct      tp_m      ssrd_jm2  LC_Type1  sand  silt  clay  soc  ph  \\\n",
              "0  60.125874  0.015587  5.885828e+09        40   424   298   279  369  72   \n",
              "1  62.907192  0.034528  5.727603e+09        50   385   279   337  334  75   \n",
              "2  59.899883  0.014093  5.903953e+09        50   426   255   319  298  74   \n",
              "3  60.961070  0.022374  5.851018e+09        40   399   270   330  372  74   \n",
              "4  63.112797  0.024161  5.755267e+09        50   327   284   390  331  74   \n",
              "\n",
              "   bdod  cec         POP  \n",
              "0   134  195    3.509249  \n",
              "1   129  185   10.245003  \n",
              "2   131  186  157.432000  \n",
              "3   133  187   22.209887  \n",
              "4   133  190  161.653430  "
            ],
            "text/html": [
              "\n",
              "  <div id=\"df-13a3f2fe-c972-44b9-bb54-d8bd92ec69f6\" class=\"colab-df-container\">\n",
              "    <div>\n",
              "<style scoped>\n",
              "    .dataframe tbody tr th:only-of-type {\n",
              "        vertical-align: middle;\n",
              "    }\n",
              "\n",
              "    .dataframe tbody tr th {\n",
              "        vertical-align: top;\n",
              "    }\n",
              "\n",
              "    .dataframe thead th {\n",
              "        text-align: right;\n",
              "    }\n",
              "</style>\n",
              "<table border=\"1\" class=\"dataframe\">\n",
              "  <thead>\n",
              "    <tr style=\"text-align: right;\">\n",
              "      <th></th>\n",
              "      <th>longitude</th>\n",
              "      <th>latitude</th>\n",
              "      <th>year</th>\n",
              "      <th>month</th>\n",
              "      <th>area</th>\n",
              "      <th>ndvi</th>\n",
              "      <th>t2m_c</th>\n",
              "      <th>td2m_c</th>\n",
              "      <th>rh_pct</th>\n",
              "      <th>tp_m</th>\n",
              "      <th>ssrd_jm2</th>\n",
              "      <th>LC_Type1</th>\n",
              "      <th>sand</th>\n",
              "      <th>silt</th>\n",
              "      <th>clay</th>\n",
              "      <th>soc</th>\n",
              "      <th>ph</th>\n",
              "      <th>bdod</th>\n",
              "      <th>cec</th>\n",
              "      <th>POP</th>\n",
              "    </tr>\n",
              "  </thead>\n",
              "  <tbody>\n",
              "    <tr>\n",
              "      <th>0</th>\n",
              "      <td>31.158066</td>\n",
              "      <td>30.286700</td>\n",
              "      <td>2025</td>\n",
              "      <td>1</td>\n",
              "      <td>Dakahlia</td>\n",
              "      <td>0.70215</td>\n",
              "      <td>15.561177</td>\n",
              "      <td>7.861838</td>\n",
              "      <td>60.125874</td>\n",
              "      <td>0.015587</td>\n",
              "      <td>5.885828e+09</td>\n",
              "      <td>40</td>\n",
              "      <td>424</td>\n",
              "      <td>298</td>\n",
              "      <td>279</td>\n",
              "      <td>369</td>\n",
              "      <td>72</td>\n",
              "      <td>134</td>\n",
              "      <td>195</td>\n",
              "      <td>3.509249</td>\n",
              "    </tr>\n",
              "    <tr>\n",
              "      <th>1</th>\n",
              "      <td>31.113150</td>\n",
              "      <td>30.610094</td>\n",
              "      <td>2025</td>\n",
              "      <td>1</td>\n",
              "      <td>Dakahlia</td>\n",
              "      <td>0.51000</td>\n",
              "      <td>15.568003</td>\n",
              "      <td>8.534099</td>\n",
              "      <td>62.907192</td>\n",
              "      <td>0.034528</td>\n",
              "      <td>5.727603e+09</td>\n",
              "      <td>50</td>\n",
              "      <td>385</td>\n",
              "      <td>279</td>\n",
              "      <td>337</td>\n",
              "      <td>334</td>\n",
              "      <td>75</td>\n",
              "      <td>129</td>\n",
              "      <td>185</td>\n",
              "      <td>10.245003</td>\n",
              "    </tr>\n",
              "    <tr>\n",
              "      <th>2</th>\n",
              "      <td>31.310780</td>\n",
              "      <td>30.295683</td>\n",
              "      <td>2025</td>\n",
              "      <td>1</td>\n",
              "      <td>Dakahlia</td>\n",
              "      <td>0.59845</td>\n",
              "      <td>15.485617</td>\n",
              "      <td>7.735447</td>\n",
              "      <td>59.899883</td>\n",
              "      <td>0.014093</td>\n",
              "      <td>5.903953e+09</td>\n",
              "      <td>50</td>\n",
              "      <td>426</td>\n",
              "      <td>255</td>\n",
              "      <td>319</td>\n",
              "      <td>298</td>\n",
              "      <td>74</td>\n",
              "      <td>131</td>\n",
              "      <td>186</td>\n",
              "      <td>157.432000</td>\n",
              "    </tr>\n",
              "    <tr>\n",
              "      <th>3</th>\n",
              "      <td>31.256880</td>\n",
              "      <td>30.430430</td>\n",
              "      <td>2025</td>\n",
              "      <td>1</td>\n",
              "      <td>Dakahlia</td>\n",
              "      <td>0.57405</td>\n",
              "      <td>15.449718</td>\n",
              "      <td>7.959476</td>\n",
              "      <td>60.961070</td>\n",
              "      <td>0.022374</td>\n",
              "      <td>5.851018e+09</td>\n",
              "      <td>40</td>\n",
              "      <td>399</td>\n",
              "      <td>270</td>\n",
              "      <td>330</td>\n",
              "      <td>372</td>\n",
              "      <td>74</td>\n",
              "      <td>133</td>\n",
              "      <td>187</td>\n",
              "      <td>22.209887</td>\n",
              "    </tr>\n",
              "    <tr>\n",
              "      <th>4</th>\n",
              "      <td>31.445526</td>\n",
              "      <td>30.565178</td>\n",
              "      <td>2025</td>\n",
              "      <td>1</td>\n",
              "      <td>Dakahlia</td>\n",
              "      <td>0.53560</td>\n",
              "      <td>15.528049</td>\n",
              "      <td>8.544456</td>\n",
              "      <td>63.112797</td>\n",
              "      <td>0.024161</td>\n",
              "      <td>5.755267e+09</td>\n",
              "      <td>50</td>\n",
              "      <td>327</td>\n",
              "      <td>284</td>\n",
              "      <td>390</td>\n",
              "      <td>331</td>\n",
              "      <td>74</td>\n",
              "      <td>133</td>\n",
              "      <td>190</td>\n",
              "      <td>161.653430</td>\n",
              "    </tr>\n",
              "  </tbody>\n",
              "</table>\n",
              "</div>\n",
              "    <div class=\"colab-df-buttons\">\n",
              "\n",
              "  <div class=\"colab-df-container\">\n",
              "    <button class=\"colab-df-convert\" onclick=\"convertToInteractive('df-13a3f2fe-c972-44b9-bb54-d8bd92ec69f6')\"\n",
              "            title=\"Convert this dataframe to an interactive table.\"\n",
              "            style=\"display:none;\">\n",
              "\n",
              "  <svg xmlns=\"http://www.w3.org/2000/svg\" height=\"24px\" viewBox=\"0 -960 960 960\">\n",
              "    <path d=\"M120-120v-720h720v720H120Zm60-500h600v-160H180v160Zm220 220h160v-160H400v160Zm0 220h160v-160H400v160ZM180-400h160v-160H180v160Zm440 0h160v-160H620v160ZM180-180h160v-160H180v160Zm440 0h160v-160H620v160Z\"/>\n",
              "  </svg>\n",
              "    </button>\n",
              "\n",
              "  <style>\n",
              "    .colab-df-container {\n",
              "      display:flex;\n",
              "      gap: 12px;\n",
              "    }\n",
              "\n",
              "    .colab-df-convert {\n",
              "      background-color: #E8F0FE;\n",
              "      border: none;\n",
              "      border-radius: 50%;\n",
              "      cursor: pointer;\n",
              "      display: none;\n",
              "      fill: #1967D2;\n",
              "      height: 32px;\n",
              "      padding: 0 0 0 0;\n",
              "      width: 32px;\n",
              "    }\n",
              "\n",
              "    .colab-df-convert:hover {\n",
              "      background-color: #E2EBFA;\n",
              "      box-shadow: 0px 1px 2px rgba(60, 64, 67, 0.3), 0px 1px 3px 1px rgba(60, 64, 67, 0.15);\n",
              "      fill: #174EA6;\n",
              "    }\n",
              "\n",
              "    .colab-df-buttons div {\n",
              "      margin-bottom: 4px;\n",
              "    }\n",
              "\n",
              "    [theme=dark] .colab-df-convert {\n",
              "      background-color: #3B4455;\n",
              "      fill: #D2E3FC;\n",
              "    }\n",
              "\n",
              "    [theme=dark] .colab-df-convert:hover {\n",
              "      background-color: #434B5C;\n",
              "      box-shadow: 0px 1px 3px 1px rgba(0, 0, 0, 0.15);\n",
              "      filter: drop-shadow(0px 1px 2px rgba(0, 0, 0, 0.3));\n",
              "      fill: #FFFFFF;\n",
              "    }\n",
              "  </style>\n",
              "\n",
              "    <script>\n",
              "      const buttonEl =\n",
              "        document.querySelector('#df-13a3f2fe-c972-44b9-bb54-d8bd92ec69f6 button.colab-df-convert');\n",
              "      buttonEl.style.display =\n",
              "        google.colab.kernel.accessAllowed ? 'block' : 'none';\n",
              "\n",
              "      async function convertToInteractive(key) {\n",
              "        const element = document.querySelector('#df-13a3f2fe-c972-44b9-bb54-d8bd92ec69f6');\n",
              "        const dataTable =\n",
              "          await google.colab.kernel.invokeFunction('convertToInteractive',\n",
              "                                                    [key], {});\n",
              "        if (!dataTable) return;\n",
              "\n",
              "        const docLinkHtml = 'Like what you see? Visit the ' +\n",
              "          '<a target=\"_blank\" href=https://colab.research.google.com/notebooks/data_table.ipynb>data table notebook</a>'\n",
              "          + ' to learn more about interactive tables.';\n",
              "        element.innerHTML = '';\n",
              "        dataTable['output_type'] = 'display_data';\n",
              "        await google.colab.output.renderOutput(dataTable, element);\n",
              "        const docLink = document.createElement('div');\n",
              "        docLink.innerHTML = docLinkHtml;\n",
              "        element.appendChild(docLink);\n",
              "      }\n",
              "    </script>\n",
              "  </div>\n",
              "\n",
              "\n",
              "    <div id=\"df-3d4ea737-22e4-4a00-8ced-7fffd96fc52d\">\n",
              "      <button class=\"colab-df-quickchart\" onclick=\"quickchart('df-3d4ea737-22e4-4a00-8ced-7fffd96fc52d')\"\n",
              "                title=\"Suggest charts\"\n",
              "                style=\"display:none;\">\n",
              "\n",
              "<svg xmlns=\"http://www.w3.org/2000/svg\" height=\"24px\"viewBox=\"0 0 24 24\"\n",
              "     width=\"24px\">\n",
              "    <g>\n",
              "        <path d=\"M19 3H5c-1.1 0-2 .9-2 2v14c0 1.1.9 2 2 2h14c1.1 0 2-.9 2-2V5c0-1.1-.9-2-2-2zM9 17H7v-7h2v7zm4 0h-2V7h2v10zm4 0h-2v-4h2v4z\"/>\n",
              "    </g>\n",
              "</svg>\n",
              "      </button>\n",
              "\n",
              "<style>\n",
              "  .colab-df-quickchart {\n",
              "      --bg-color: #E8F0FE;\n",
              "      --fill-color: #1967D2;\n",
              "      --hover-bg-color: #E2EBFA;\n",
              "      --hover-fill-color: #174EA6;\n",
              "      --disabled-fill-color: #AAA;\n",
              "      --disabled-bg-color: #DDD;\n",
              "  }\n",
              "\n",
              "  [theme=dark] .colab-df-quickchart {\n",
              "      --bg-color: #3B4455;\n",
              "      --fill-color: #D2E3FC;\n",
              "      --hover-bg-color: #434B5C;\n",
              "      --hover-fill-color: #FFFFFF;\n",
              "      --disabled-bg-color: #3B4455;\n",
              "      --disabled-fill-color: #666;\n",
              "  }\n",
              "\n",
              "  .colab-df-quickchart {\n",
              "    background-color: var(--bg-color);\n",
              "    border: none;\n",
              "    border-radius: 50%;\n",
              "    cursor: pointer;\n",
              "    display: none;\n",
              "    fill: var(--fill-color);\n",
              "    height: 32px;\n",
              "    padding: 0;\n",
              "    width: 32px;\n",
              "  }\n",
              "\n",
              "  .colab-df-quickchart:hover {\n",
              "    background-color: var(--hover-bg-color);\n",
              "    box-shadow: 0 1px 2px rgba(60, 64, 67, 0.3), 0 1px 3px 1px rgba(60, 64, 67, 0.15);\n",
              "    fill: var(--button-hover-fill-color);\n",
              "  }\n",
              "\n",
              "  .colab-df-quickchart-complete:disabled,\n",
              "  .colab-df-quickchart-complete:disabled:hover {\n",
              "    background-color: var(--disabled-bg-color);\n",
              "    fill: var(--disabled-fill-color);\n",
              "    box-shadow: none;\n",
              "  }\n",
              "\n",
              "  .colab-df-spinner {\n",
              "    border: 2px solid var(--fill-color);\n",
              "    border-color: transparent;\n",
              "    border-bottom-color: var(--fill-color);\n",
              "    animation:\n",
              "      spin 1s steps(1) infinite;\n",
              "  }\n",
              "\n",
              "  @keyframes spin {\n",
              "    0% {\n",
              "      border-color: transparent;\n",
              "      border-bottom-color: var(--fill-color);\n",
              "      border-left-color: var(--fill-color);\n",
              "    }\n",
              "    20% {\n",
              "      border-color: transparent;\n",
              "      border-left-color: var(--fill-color);\n",
              "      border-top-color: var(--fill-color);\n",
              "    }\n",
              "    30% {\n",
              "      border-color: transparent;\n",
              "      border-left-color: var(--fill-color);\n",
              "      border-top-color: var(--fill-color);\n",
              "      border-right-color: var(--fill-color);\n",
              "    }\n",
              "    40% {\n",
              "      border-color: transparent;\n",
              "      border-right-color: var(--fill-color);\n",
              "      border-top-color: var(--fill-color);\n",
              "    }\n",
              "    60% {\n",
              "      border-color: transparent;\n",
              "      border-right-color: var(--fill-color);\n",
              "    }\n",
              "    80% {\n",
              "      border-color: transparent;\n",
              "      border-right-color: var(--fill-color);\n",
              "      border-bottom-color: var(--fill-color);\n",
              "    }\n",
              "    90% {\n",
              "      border-color: transparent;\n",
              "      border-bottom-color: var(--fill-color);\n",
              "    }\n",
              "  }\n",
              "</style>\n",
              "\n",
              "      <script>\n",
              "        async function quickchart(key) {\n",
              "          const quickchartButtonEl =\n",
              "            document.querySelector('#' + key + ' button');\n",
              "          quickchartButtonEl.disabled = true;  // To prevent multiple clicks.\n",
              "          quickchartButtonEl.classList.add('colab-df-spinner');\n",
              "          try {\n",
              "            const charts = await google.colab.kernel.invokeFunction(\n",
              "                'suggestCharts', [key], {});\n",
              "          } catch (error) {\n",
              "            console.error('Error during call to suggestCharts:', error);\n",
              "          }\n",
              "          quickchartButtonEl.classList.remove('colab-df-spinner');\n",
              "          quickchartButtonEl.classList.add('colab-df-quickchart-complete');\n",
              "        }\n",
              "        (() => {\n",
              "          let quickchartButtonEl =\n",
              "            document.querySelector('#df-3d4ea737-22e4-4a00-8ced-7fffd96fc52d button');\n",
              "          quickchartButtonEl.style.display =\n",
              "            google.colab.kernel.accessAllowed ? 'block' : 'none';\n",
              "        })();\n",
              "      </script>\n",
              "    </div>\n",
              "\n",
              "    </div>\n",
              "  </div>\n"
            ],
            "application/vnd.google.colaboratory.intrinsic+json": {
              "type": "dataframe",
              "variable_name": "des_df"
            }
          },
          "metadata": {},
          "execution_count": 7
        }
      ]
    },
    {
      "cell_type": "markdown",
      "source": [
        "# **Feature Engineering**"
      ],
      "metadata": {
        "id": "1r-yOc44e109"
      }
    },
    {
      "cell_type": "code",
      "source": [
        "def get_season(month):\n",
        "    if month in [12, 1, 2]:\n",
        "        return 'Winter'\n",
        "    elif month in [3, 4, 5]:\n",
        "        return 'Spring'\n",
        "    elif month in [6, 7, 8]:\n",
        "        return 'Summer'\n",
        "    else:\n",
        "        return 'Autumn'\n",
        "\n",
        "des_df['season'] = des_df['month'].apply(get_season)"
      ],
      "metadata": {
        "id": "CN6QOplr5ZOa"
      },
      "execution_count": null,
      "outputs": []
    },
    {
      "cell_type": "code",
      "source": [
        "# soil ratios\n",
        "des_df['soil_total'] = des_df['sand'] + des_df['silt'] + des_df['clay']\n",
        "# avoid division by zero\n",
        "des_df['soil_total'] = des_df['soil_total'].replace(0, np.nan)\n",
        "des_df['sand_ratio'] = des_df['sand'] / des_df['soil_total']\n",
        "des_df['silt_ratio'] = des_df['silt'] / des_df['soil_total']\n",
        "des_df['clay_ratio'] = des_df['clay'] / des_df['soil_total']\n",
        "des_df = des_df.drop(columns=['soil_total'])"
      ],
      "metadata": {
        "id": "4xhkwRpc5cmT"
      },
      "execution_count": null,
      "outputs": []
    },
    {
      "cell_type": "code",
      "source": [
        "# combined feature\n",
        "des_df['soc_cec'] = des_df['soc'] * des_df['cec']"
      ],
      "metadata": {
        "id": "3XdZQnb_5e43"
      },
      "execution_count": null,
      "outputs": []
    },
    {
      "cell_type": "markdown",
      "source": [
        "# **Preprocessor Pipeline**"
      ],
      "metadata": {
        "id": "LjxoB_FcfAA1"
      }
    },
    {
      "cell_type": "code",
      "source": [
        "des_df.shape"
      ],
      "metadata": {
        "colab": {
          "base_uri": "https://localhost:8080/"
        },
        "id": "ZcaKxiIL9xYn",
        "outputId": "99e47044-e2b8-4765-c21f-b9017ea79dfb"
      },
      "execution_count": null,
      "outputs": [
        {
          "output_type": "execute_result",
          "data": {
            "text/plain": [
              "(104363, 25)"
            ]
          },
          "metadata": {},
          "execution_count": 11
        }
      ]
    },
    {
      "cell_type": "code",
      "source": [
        "target_col = 'ndvi'\n",
        "y = des_df[target_col]\n",
        "X = des_df.drop(columns=[target_col])"
      ],
      "metadata": {
        "id": "tF_Xw0vg5hXv"
      },
      "execution_count": null,
      "outputs": []
    },
    {
      "cell_type": "code",
      "source": [
        "categorical_features = ['season', 'area']"
      ],
      "metadata": {
        "id": "QlmoEg2k5reQ"
      },
      "execution_count": null,
      "outputs": []
    },
    {
      "cell_type": "code",
      "source": [
        "numeric_features = [c for c in X.columns if c not in categorical_features]"
      ],
      "metadata": {
        "id": "E81c1w175tgN"
      },
      "execution_count": null,
      "outputs": []
    },
    {
      "cell_type": "code",
      "source": [
        "numeric_transformer = Pipeline(steps=[\n",
        "    ('scaler', StandardScaler())\n",
        "])\n",
        "\n",
        "categorical_transformer = Pipeline(steps=[\n",
        "    ('ohe', OneHotEncoder(drop='first', handle_unknown='ignore'))\n",
        "])\n",
        "\n",
        "preprocessor = ColumnTransformer(\n",
        "    transformers=[\n",
        "        ('num', numeric_transformer, numeric_features),\n",
        "        ('cat', categorical_transformer, categorical_features)\n",
        "    ],\n",
        "    remainder='drop'\n",
        ")"
      ],
      "metadata": {
        "id": "8QLg_RK_6eu9"
      },
      "execution_count": null,
      "outputs": []
    },
    {
      "cell_type": "code",
      "source": [
        "X_train, X_valid, y_train, y_valid = train_test_split(\n",
        "    X, y, test_size=0.2, random_state=42\n",
        ")"
      ],
      "metadata": {
        "id": "oenRfx1g6jw_"
      },
      "execution_count": null,
      "outputs": []
    },
    {
      "cell_type": "code",
      "source": [
        "preprocessor.fit(X_train)\n",
        "X_train_trans = preprocessor.transform(X_train)\n",
        "X_valid_trans = preprocessor.transform(X_valid)"
      ],
      "metadata": {
        "id": "GPvYLe8v6mQx"
      },
      "execution_count": null,
      "outputs": []
    },
    {
      "cell_type": "code",
      "source": [
        "# Helper to get transformed feature names\n",
        "try:\n",
        "    feat_names = preprocessor.get_feature_names_out()\n",
        "except Exception:\n",
        "    num_names = numeric_features\n",
        "    cat_encoder = preprocessor.named_transformers_['cat'].named_steps['ohe']\n",
        "    cat_cols = []\n",
        "    if hasattr(cat_encoder, 'get_feature_names_out'):\n",
        "        cat_cols = list(cat_encoder.get_feature_names_out(categorical_features))\n",
        "    else:\n",
        "        cat_cols = list(cat_encoder.get_feature_names(categorical_features))\n",
        "    feat_names = np.concatenate([num_names, cat_cols])\n",
        "\n",
        "print(\"Number of transformed features:\", len(feat_names))"
      ],
      "metadata": {
        "colab": {
          "base_uri": "https://localhost:8080/"
        },
        "id": "7uUfUNMB6o80",
        "outputId": "999a6318-e5fc-402b-fa1a-f8360b6fd44b"
      },
      "execution_count": null,
      "outputs": [
        {
          "output_type": "stream",
          "name": "stdout",
          "text": [
            "Number of transformed features: 27\n"
          ]
        }
      ]
    },
    {
      "cell_type": "markdown",
      "source": [
        "# **Model Training & Hyperparameter Tuning**"
      ],
      "metadata": {
        "id": "KtEjcBHmIXjh"
      }
    },
    {
      "cell_type": "code",
      "source": [
        "import lightgbm as lgb"
      ],
      "metadata": {
        "id": "Sk27XnNhKK9E"
      },
      "execution_count": null,
      "outputs": []
    },
    {
      "cell_type": "code",
      "source": [
        "def objective(trial):\n",
        "    params = {\n",
        "        'learning_rate': trial.suggest_float('learning_rate', 1e-3, 0.3, log=True),\n",
        "        'num_leaves': trial.suggest_int('num_leaves', 20, 3000),\n",
        "        'max_depth': trial.suggest_int('max_depth', 3, 16),\n",
        "        'min_child_samples': trial.suggest_int('min_child_samples', 5, 200),\n",
        "        'subsample': trial.suggest_float('subsample', 0.4, 1.0),\n",
        "        'colsample_bytree': trial.suggest_float('colsample_bytree', 0.4, 1.0),\n",
        "        'reg_alpha': trial.suggest_float('reg_alpha', 1e-8, 10.0, log=True),\n",
        "        'reg_lambda': trial.suggest_float('reg_lambda', 1e-8, 10.0, log=True),\n",
        "        'n_estimators': 1000,\n",
        "        'random_state': 42,\n",
        "        'verbosity': -1\n",
        "    }\n",
        "\n",
        "    model = LGBMRegressor(**params)\n",
        "\n",
        "    callbacks = [lgb.early_stopping(stopping_rounds=50, verbose=False)]\n",
        "\n",
        "    model.fit(\n",
        "        X_train_trans, y_train,\n",
        "        eval_set=[(X_valid_trans, y_valid)],\n",
        "        eval_metric='rmse',\n",
        "        callbacks=callbacks,\n",
        "    )\n",
        "\n",
        "    preds = model.predict(X_valid_trans)\n",
        "    mse = mean_squared_error(y_valid, preds)\n",
        "    return mse"
      ],
      "metadata": {
        "id": "1U0DRfZ36u8z"
      },
      "execution_count": null,
      "outputs": []
    },
    {
      "cell_type": "code",
      "source": [
        "study = optuna.create_study(direction='minimize')\n",
        "n_trials = 50\n",
        "print(f\"Starting Optuna tuning ({n_trials} trials)...\")\n",
        "study.optimize(objective, n_trials=n_trials)"
      ],
      "metadata": {
        "colab": {
          "base_uri": "https://localhost:8080/"
        },
        "id": "8aLguaUQ6zSG",
        "outputId": "2c365872-417e-41a4-f402-9f5ee70a184d"
      },
      "execution_count": null,
      "outputs": [
        {
          "output_type": "stream",
          "name": "stderr",
          "text": [
            "[I 2025-09-11 14:23:17,634] A new study created in memory with name: no-name-8e20c7b7-82fd-4342-8031-dcaaf8238ee6\n"
          ]
        },
        {
          "output_type": "stream",
          "name": "stdout",
          "text": [
            "Starting Optuna tuning (50 trials)...\n"
          ]
        },
        {
          "output_type": "stream",
          "name": "stderr",
          "text": [
            "/usr/local/lib/python3.12/dist-packages/sklearn/utils/validation.py:2739: UserWarning: X does not have valid feature names, but LGBMRegressor was fitted with feature names\n",
            "  warnings.warn(\n",
            "[I 2025-09-11 14:23:50,884] Trial 0 finished with value: 0.0031767054714432674 and parameters: {'learning_rate': 0.004009014172093557, 'num_leaves': 974, 'max_depth': 11, 'min_child_samples': 101, 'subsample': 0.681961756402087, 'colsample_bytree': 0.6830558625585996, 'reg_alpha': 2.206303602399257, 'reg_lambda': 0.0012302994300822786}. Best is trial 0 with value: 0.0031767054714432674.\n",
            "/usr/local/lib/python3.12/dist-packages/sklearn/utils/validation.py:2739: UserWarning: X does not have valid feature names, but LGBMRegressor was fitted with feature names\n",
            "  warnings.warn(\n",
            "[I 2025-09-11 14:24:27,360] Trial 1 finished with value: 0.0015774756611721585 and parameters: {'learning_rate': 0.018811578289204503, 'num_leaves': 2333, 'max_depth': 10, 'min_child_samples': 57, 'subsample': 0.5382286845191452, 'colsample_bytree': 0.859988493355028, 'reg_alpha': 0.001889817443909493, 'reg_lambda': 0.0007367992013976786}. Best is trial 1 with value: 0.0015774756611721585.\n",
            "/usr/local/lib/python3.12/dist-packages/sklearn/utils/validation.py:2739: UserWarning: X does not have valid feature names, but LGBMRegressor was fitted with feature names\n",
            "  warnings.warn(\n",
            "[I 2025-09-11 14:25:33,215] Trial 2 finished with value: 0.0012245083197360532 and parameters: {'learning_rate': 0.015689098030070903, 'num_leaves': 857, 'max_depth': 16, 'min_child_samples': 29, 'subsample': 0.6010356230673144, 'colsample_bytree': 0.6563877578652781, 'reg_alpha': 1.4355061524478268e-08, 'reg_lambda': 1.403407387141783e-06}. Best is trial 2 with value: 0.0012245083197360532.\n",
            "/usr/local/lib/python3.12/dist-packages/sklearn/utils/validation.py:2739: UserWarning: X does not have valid feature names, but LGBMRegressor was fitted with feature names\n",
            "  warnings.warn(\n",
            "[I 2025-09-11 14:27:06,062] Trial 3 finished with value: 0.0013435582072052494 and parameters: {'learning_rate': 0.014048850181261181, 'num_leaves': 1424, 'max_depth': 16, 'min_child_samples': 30, 'subsample': 0.5112570124885187, 'colsample_bytree': 0.9894103917640137, 'reg_alpha': 4.332093951608405e-05, 'reg_lambda': 0.11633313248560576}. Best is trial 2 with value: 0.0012245083197360532.\n",
            "/usr/local/lib/python3.12/dist-packages/sklearn/utils/validation.py:2739: UserWarning: X does not have valid feature names, but LGBMRegressor was fitted with feature names\n",
            "  warnings.warn(\n",
            "[I 2025-09-11 14:27:30,783] Trial 4 finished with value: 0.0014774879700463072 and parameters: {'learning_rate': 0.03193187409962584, 'num_leaves': 107, 'max_depth': 12, 'min_child_samples': 43, 'subsample': 0.8401236019999228, 'colsample_bytree': 0.7796983334639633, 'reg_alpha': 1.3305475478786328e-06, 'reg_lambda': 0.1781410093480239}. Best is trial 2 with value: 0.0012245083197360532.\n",
            "/usr/local/lib/python3.12/dist-packages/sklearn/utils/validation.py:2739: UserWarning: X does not have valid feature names, but LGBMRegressor was fitted with feature names\n",
            "  warnings.warn(\n",
            "[I 2025-09-11 14:28:01,278] Trial 5 finished with value: 0.0016106698189122983 and parameters: {'learning_rate': 0.015630136858450345, 'num_leaves': 371, 'max_depth': 9, 'min_child_samples': 15, 'subsample': 0.8354296716849756, 'colsample_bytree': 0.6321887871310268, 'reg_alpha': 0.00017150991729064167, 'reg_lambda': 1.1953781688054884e-08}. Best is trial 2 with value: 0.0012245083197360532.\n",
            "/usr/local/lib/python3.12/dist-packages/sklearn/utils/validation.py:2739: UserWarning: X does not have valid feature names, but LGBMRegressor was fitted with feature names\n",
            "  warnings.warn(\n",
            "[I 2025-09-11 14:28:24,419] Trial 6 finished with value: 0.0013966542907293204 and parameters: {'learning_rate': 0.05969844906889447, 'num_leaves': 483, 'max_depth': 11, 'min_child_samples': 137, 'subsample': 0.891856340370377, 'colsample_bytree': 0.5419340787385274, 'reg_alpha': 5.030666835868053e-06, 'reg_lambda': 7.734999317744371e-06}. Best is trial 2 with value: 0.0012245083197360532.\n",
            "/usr/local/lib/python3.12/dist-packages/sklearn/utils/validation.py:2739: UserWarning: X does not have valid feature names, but LGBMRegressor was fitted with feature names\n",
            "  warnings.warn(\n",
            "[I 2025-09-11 14:29:09,725] Trial 7 finished with value: 0.0035817883218282505 and parameters: {'learning_rate': 0.002211119059775148, 'num_leaves': 919, 'max_depth': 10, 'min_child_samples': 26, 'subsample': 0.6955609060096588, 'colsample_bytree': 0.5125668072586588, 'reg_alpha': 7.342516254086585e-05, 'reg_lambda': 1.1872400713972207}. Best is trial 2 with value: 0.0012245083197360532.\n",
            "/usr/local/lib/python3.12/dist-packages/sklearn/utils/validation.py:2739: UserWarning: X does not have valid feature names, but LGBMRegressor was fitted with feature names\n",
            "  warnings.warn(\n",
            "[I 2025-09-11 14:29:23,361] Trial 8 finished with value: 0.0015944245292095936 and parameters: {'learning_rate': 0.2282461424661581, 'num_leaves': 2662, 'max_depth': 5, 'min_child_samples': 150, 'subsample': 0.8960256330953233, 'colsample_bytree': 0.9185918726838628, 'reg_alpha': 0.003344558344638093, 'reg_lambda': 0.04137367120127126}. Best is trial 2 with value: 0.0012245083197360532.\n",
            "/usr/local/lib/python3.12/dist-packages/sklearn/utils/validation.py:2739: UserWarning: X does not have valid feature names, but LGBMRegressor was fitted with feature names\n",
            "  warnings.warn(\n",
            "[I 2025-09-11 14:29:48,708] Trial 9 finished with value: 0.0013247330598335758 and parameters: {'learning_rate': 0.2737542920069358, 'num_leaves': 1394, 'max_depth': 10, 'min_child_samples': 107, 'subsample': 0.6235192512282357, 'colsample_bytree': 0.8790287542309856, 'reg_alpha': 1.5436215226050126e-05, 'reg_lambda': 1.61895868496907e-08}. Best is trial 2 with value: 0.0012245083197360532.\n",
            "/usr/local/lib/python3.12/dist-packages/sklearn/utils/validation.py:2739: UserWarning: X does not have valid feature names, but LGBMRegressor was fitted with feature names\n",
            "  warnings.warn(\n",
            "[I 2025-09-11 14:30:33,698] Trial 10 finished with value: 0.008152213022249284 and parameters: {'learning_rate': 0.0011195471922034086, 'num_leaves': 1988, 'max_depth': 16, 'min_child_samples': 196, 'subsample': 0.4197054943356423, 'colsample_bytree': 0.4549615392931474, 'reg_alpha': 1.2208004496880069e-08, 'reg_lambda': 2.3894985337894934e-06}. Best is trial 2 with value: 0.0012245083197360532.\n",
            "/usr/local/lib/python3.12/dist-packages/sklearn/utils/validation.py:2739: UserWarning: X does not have valid feature names, but LGBMRegressor was fitted with feature names\n",
            "  warnings.warn(\n",
            "[I 2025-09-11 14:30:46,859] Trial 11 finished with value: 0.0015119848136730843 and parameters: {'learning_rate': 0.26758918013481187, 'num_leaves': 1558, 'max_depth': 5, 'min_child_samples': 85, 'subsample': 0.6220324112296693, 'colsample_bytree': 0.8107543024052192, 'reg_alpha': 1.6505002987243378e-08, 'reg_lambda': 1.3484491871953573e-08}. Best is trial 2 with value: 0.0012245083197360532.\n",
            "/usr/local/lib/python3.12/dist-packages/sklearn/utils/validation.py:2739: UserWarning: X does not have valid feature names, but LGBMRegressor was fitted with feature names\n",
            "  warnings.warn(\n",
            "[I 2025-09-11 14:31:21,109] Trial 12 finished with value: 0.0012110103061624194 and parameters: {'learning_rate': 0.09484078436160835, 'num_leaves': 1147, 'max_depth': 14, 'min_child_samples': 76, 'subsample': 0.5676868026234732, 'colsample_bytree': 0.7383309816297174, 'reg_alpha': 2.825558013803193e-07, 'reg_lambda': 7.571153606330618e-07}. Best is trial 12 with value: 0.0012110103061624194.\n",
            "/usr/local/lib/python3.12/dist-packages/sklearn/utils/validation.py:2739: UserWarning: X does not have valid feature names, but LGBMRegressor was fitted with feature names\n",
            "  warnings.warn(\n",
            "[I 2025-09-11 14:31:55,666] Trial 13 finished with value: 0.0012067532477140924 and parameters: {'learning_rate': 0.07483967936526506, 'num_leaves': 901, 'max_depth': 14, 'min_child_samples': 67, 'subsample': 0.5177907435171655, 'colsample_bytree': 0.6166504768222939, 'reg_alpha': 2.539219576584744e-07, 'reg_lambda': 3.4408665403020135e-06}. Best is trial 13 with value: 0.0012067532477140924.\n",
            "/usr/local/lib/python3.12/dist-packages/sklearn/utils/validation.py:2739: UserWarning: X does not have valid feature names, but LGBMRegressor was fitted with feature names\n",
            "  warnings.warn(\n",
            "[I 2025-09-11 14:32:28,726] Trial 14 finished with value: 0.0012122718872656423 and parameters: {'learning_rate': 0.09072769931661195, 'num_leaves': 1806, 'max_depth': 13, 'min_child_samples': 71, 'subsample': 0.4145952254432308, 'colsample_bytree': 0.7412667855660986, 'reg_alpha': 1.4719985477776783e-06, 'reg_lambda': 2.8472404844594868e-05}. Best is trial 13 with value: 0.0012067532477140924.\n",
            "/usr/local/lib/python3.12/dist-packages/sklearn/utils/validation.py:2739: UserWarning: X does not have valid feature names, but LGBMRegressor was fitted with feature names\n",
            "  warnings.warn(\n",
            "[I 2025-09-11 14:32:58,805] Trial 15 finished with value: 0.0012514779848225072 and parameters: {'learning_rate': 0.08577277257690454, 'num_leaves': 1130, 'max_depth': 14, 'min_child_samples': 118, 'subsample': 0.5110963208409494, 'colsample_bytree': 0.5645793571355812, 'reg_alpha': 2.117548930880658e-07, 'reg_lambda': 3.001860003909733e-07}. Best is trial 13 with value: 0.0012067532477140924.\n",
            "/usr/local/lib/python3.12/dist-packages/sklearn/utils/validation.py:2739: UserWarning: X does not have valid feature names, but LGBMRegressor was fitted with feature names\n",
            "  warnings.warn(\n",
            "[I 2025-09-11 14:33:16,177] Trial 16 finished with value: 0.001705715732923907 and parameters: {'learning_rate': 0.045278611211543966, 'num_leaves': 522, 'max_depth': 7, 'min_child_samples': 64, 'subsample': 0.46864320783895363, 'colsample_bytree': 0.6035755984581219, 'reg_alpha': 2.1497446356610684e-07, 'reg_lambda': 8.636510635571233e-05}. Best is trial 13 with value: 0.0012067532477140924.\n",
            "/usr/local/lib/python3.12/dist-packages/sklearn/utils/validation.py:2739: UserWarning: X does not have valid feature names, but LGBMRegressor was fitted with feature names\n",
            "  warnings.warn(\n",
            "[I 2025-09-11 14:33:49,084] Trial 17 finished with value: 0.00121186366608967 and parameters: {'learning_rate': 0.1321327072176484, 'num_leaves': 1958, 'max_depth': 14, 'min_child_samples': 82, 'subsample': 0.7513418617277762, 'colsample_bytree': 0.41716848973814225, 'reg_alpha': 0.039590941536404724, 'reg_lambda': 8.778469939801518e-08}. Best is trial 13 with value: 0.0012067532477140924.\n",
            "/usr/local/lib/python3.12/dist-packages/sklearn/utils/validation.py:2739: UserWarning: X does not have valid feature names, but LGBMRegressor was fitted with feature names\n",
            "  warnings.warn(\n",
            "[I 2025-09-11 14:33:58,388] Trial 18 finished with value: 0.005658204261862232 and parameters: {'learning_rate': 0.005393484265214345, 'num_leaves': 653, 'max_depth': 3, 'min_child_samples': 154, 'subsample': 0.9817139325197481, 'colsample_bytree': 0.7172831268302418, 'reg_alpha': 1.7990145078900228e-07, 'reg_lambda': 0.004967171400397227}. Best is trial 13 with value: 0.0012067532477140924.\n",
            "/usr/local/lib/python3.12/dist-packages/sklearn/utils/validation.py:2739: UserWarning: X does not have valid feature names, but LGBMRegressor was fitted with feature names\n",
            "  warnings.warn(\n",
            "[I 2025-09-11 14:34:09,877] Trial 19 finished with value: 0.0014366266276012896 and parameters: {'learning_rate': 0.1413984026302047, 'num_leaves': 1206, 'max_depth': 14, 'min_child_samples': 5, 'subsample': 0.5730082267159543, 'colsample_bytree': 0.7784598683068376, 'reg_alpha': 1.906572086307064, 'reg_lambda': 2.7353234180641423e-07}. Best is trial 13 with value: 0.0012067532477140924.\n",
            "/usr/local/lib/python3.12/dist-packages/sklearn/utils/validation.py:2739: UserWarning: X does not have valid feature names, but LGBMRegressor was fitted with feature names\n",
            "  warnings.warn(\n",
            "[I 2025-09-11 14:34:22,665] Trial 20 finished with value: 0.002542077503880835 and parameters: {'learning_rate': 0.02935009074556567, 'num_leaves': 22, 'max_depth': 13, 'min_child_samples': 55, 'subsample': 0.730491540572003, 'colsample_bytree': 0.6002975121622725, 'reg_alpha': 0.07612153424473508, 'reg_lambda': 6.671093362178569e-05}. Best is trial 13 with value: 0.0012067532477140924.\n",
            "/usr/local/lib/python3.12/dist-packages/sklearn/utils/validation.py:2739: UserWarning: X does not have valid feature names, but LGBMRegressor was fitted with feature names\n",
            "  warnings.warn(\n",
            "[I 2025-09-11 14:34:58,022] Trial 21 finished with value: 0.0011973048933986471 and parameters: {'learning_rate': 0.1245323322222111, 'num_leaves': 1959, 'max_depth': 14, 'min_child_samples': 84, 'subsample': 0.757678271340191, 'colsample_bytree': 0.43331611117795343, 'reg_alpha': 0.06277488352676484, 'reg_lambda': 1.9053266977381814e-07}. Best is trial 21 with value: 0.0011973048933986471.\n",
            "/usr/local/lib/python3.12/dist-packages/sklearn/utils/validation.py:2739: UserWarning: X does not have valid feature names, but LGBMRegressor was fitted with feature names\n",
            "  warnings.warn(\n",
            "[I 2025-09-11 14:35:37,106] Trial 22 finished with value: 0.0011778105305046511 and parameters: {'learning_rate': 0.09282547311528314, 'num_leaves': 2293, 'max_depth': 15, 'min_child_samples': 88, 'subsample': 0.792248956646642, 'colsample_bytree': 0.48407748633897485, 'reg_alpha': 0.11040127098404214, 'reg_lambda': 4.328612218728813e-06}. Best is trial 22 with value: 0.0011778105305046511.\n",
            "/usr/local/lib/python3.12/dist-packages/sklearn/utils/validation.py:2739: UserWarning: X does not have valid feature names, but LGBMRegressor was fitted with feature names\n",
            "  warnings.warn(\n",
            "[I 2025-09-11 14:36:17,756] Trial 23 finished with value: 0.001198966363869187 and parameters: {'learning_rate': 0.15656451822193657, 'num_leaves': 2373, 'max_depth': 15, 'min_child_samples': 102, 'subsample': 0.7769894122268423, 'colsample_bytree': 0.48130113726334894, 'reg_alpha': 0.16079153140731253, 'reg_lambda': 7.893680924911832e-06}. Best is trial 22 with value: 0.0011778105305046511.\n",
            "/usr/local/lib/python3.12/dist-packages/sklearn/utils/validation.py:2739: UserWarning: X does not have valid feature names, but LGBMRegressor was fitted with feature names\n",
            "  warnings.warn(\n",
            "[I 2025-09-11 14:37:00,909] Trial 24 finished with value: 0.0011899039135103583 and parameters: {'learning_rate': 0.1518778553282147, 'num_leaves': 2925, 'max_depth': 15, 'min_child_samples': 95, 'subsample': 0.7855751395973227, 'colsample_bytree': 0.49078714640451043, 'reg_alpha': 0.2108812290791645, 'reg_lambda': 2.4590133592700758e-05}. Best is trial 22 with value: 0.0011778105305046511.\n",
            "/usr/local/lib/python3.12/dist-packages/sklearn/utils/validation.py:2739: UserWarning: X does not have valid feature names, but LGBMRegressor was fitted with feature names\n",
            "  warnings.warn(\n",
            "[I 2025-09-11 14:37:14,840] Trial 25 finished with value: 0.0026322881030494665 and parameters: {'learning_rate': 0.0455703271020665, 'num_leaves': 2996, 'max_depth': 12, 'min_child_samples': 122, 'subsample': 0.79959225113998, 'colsample_bytree': 0.4052269690770788, 'reg_alpha': 9.394454168595448, 'reg_lambda': 9.350533859920843e-08}. Best is trial 22 with value: 0.0011778105305046511.\n",
            "/usr/local/lib/python3.12/dist-packages/sklearn/utils/validation.py:2739: UserWarning: X does not have valid feature names, but LGBMRegressor was fitted with feature names\n",
            "  warnings.warn(\n",
            "[I 2025-09-11 14:37:44,134] Trial 26 finished with value: 0.0012332158466811 and parameters: {'learning_rate': 0.1757944857418476, 'num_leaves': 2960, 'max_depth': 15, 'min_child_samples': 91, 'subsample': 0.6660790243255986, 'colsample_bytree': 0.4692639402783965, 'reg_alpha': 0.01042660857953961, 'reg_lambda': 2.0365775789148554e-05}. Best is trial 22 with value: 0.0011778105305046511.\n",
            "/usr/local/lib/python3.12/dist-packages/sklearn/utils/validation.py:2739: UserWarning: X does not have valid feature names, but LGBMRegressor was fitted with feature names\n",
            "  warnings.warn(\n",
            "[I 2025-09-11 14:38:22,114] Trial 27 finished with value: 0.0011950562417834484 and parameters: {'learning_rate': 0.11849992352988505, 'num_leaves': 2396, 'max_depth': 15, 'min_child_samples': 124, 'subsample': 0.9066179496377497, 'colsample_bytree': 0.5132847530693303, 'reg_alpha': 0.37529191583136073, 'reg_lambda': 0.00027366226770456087}. Best is trial 22 with value: 0.0011778105305046511.\n",
            "/usr/local/lib/python3.12/dist-packages/sklearn/utils/validation.py:2739: UserWarning: X does not have valid feature names, but LGBMRegressor was fitted with feature names\n",
            "  warnings.warn(\n",
            "[I 2025-09-11 14:38:54,705] Trial 28 finished with value: 0.0012980740233747914 and parameters: {'learning_rate': 0.055514685311094346, 'num_leaves': 2629, 'max_depth': 15, 'min_child_samples': 176, 'subsample': 0.9803687740871369, 'colsample_bytree': 0.5182548666930544, 'reg_alpha': 0.31572866161718655, 'reg_lambda': 0.0001922745122667972}. Best is trial 22 with value: 0.0011778105305046511.\n",
            "/usr/local/lib/python3.12/dist-packages/sklearn/utils/validation.py:2739: UserWarning: X does not have valid feature names, but LGBMRegressor was fitted with feature names\n",
            "  warnings.warn(\n",
            "[I 2025-09-11 14:39:20,564] Trial 29 finished with value: 0.0028245972659694074 and parameters: {'learning_rate': 0.006662547127202041, 'num_leaves': 2332, 'max_depth': 8, 'min_child_samples': 125, 'subsample': 0.8573480503944274, 'colsample_bytree': 0.5414693986336078, 'reg_alpha': 0.7566328337417882, 'reg_lambda': 0.001419551283865358}. Best is trial 22 with value: 0.0011778105305046511.\n",
            "/usr/local/lib/python3.12/dist-packages/sklearn/utils/validation.py:2739: UserWarning: X does not have valid feature names, but LGBMRegressor was fitted with feature names\n",
            "  warnings.warn(\n",
            "[I 2025-09-11 14:39:53,167] Trial 30 finished with value: 0.0015364167275938331 and parameters: {'learning_rate': 0.02896245747506595, 'num_leaves': 2755, 'max_depth': 12, 'min_child_samples': 139, 'subsample': 0.911749487808016, 'colsample_bytree': 0.6713811287757301, 'reg_alpha': 0.01826803885244537, 'reg_lambda': 0.005842603142108127}. Best is trial 22 with value: 0.0011778105305046511.\n",
            "/usr/local/lib/python3.12/dist-packages/sklearn/utils/validation.py:2739: UserWarning: X does not have valid feature names, but LGBMRegressor was fitted with feature names\n",
            "  warnings.warn(\n",
            "[I 2025-09-11 14:40:00,315] Trial 31 finished with value: 0.0022055417640945915 and parameters: {'learning_rate': 0.11521664165262548, 'num_leaves': 2132, 'max_depth': 16, 'min_child_samples': 97, 'subsample': 0.9368515909303998, 'colsample_bytree': 0.44430766011257244, 'reg_alpha': 6.216709118742811, 'reg_lambda': 0.00028213246668312426}. Best is trial 22 with value: 0.0011778105305046511.\n",
            "/usr/local/lib/python3.12/dist-packages/sklearn/utils/validation.py:2739: UserWarning: X does not have valid feature names, but LGBMRegressor was fitted with feature names\n",
            "  warnings.warn(\n",
            "[I 2025-09-11 14:40:28,045] Trial 32 finished with value: 0.0012590744301265566 and parameters: {'learning_rate': 0.18878678941630941, 'num_leaves': 2451, 'max_depth': 13, 'min_child_samples': 114, 'subsample': 0.8075761343603766, 'colsample_bytree': 0.491408805426752, 'reg_alpha': 0.0009342716484815226, 'reg_lambda': 1.499886292340083e-05}. Best is trial 22 with value: 0.0011778105305046511.\n",
            "/usr/local/lib/python3.12/dist-packages/sklearn/utils/validation.py:2739: UserWarning: X does not have valid feature names, but LGBMRegressor was fitted with feature names\n",
            "  warnings.warn(\n",
            "[I 2025-09-11 14:40:53,541] Trial 33 finished with value: 0.0012198475637751267 and parameters: {'learning_rate': 0.1202459283418791, 'num_leaves': 1711, 'max_depth': 15, 'min_child_samples': 95, 'subsample': 0.7324166453886811, 'colsample_bytree': 0.5697658105330521, 'reg_alpha': 0.637326358582563, 'reg_lambda': 0.0008418555045216523}. Best is trial 22 with value: 0.0011778105305046511.\n",
            "/usr/local/lib/python3.12/dist-packages/sklearn/utils/validation.py:2739: UserWarning: X does not have valid feature names, but LGBMRegressor was fitted with feature names\n",
            "  warnings.warn(\n",
            "[I 2025-09-11 14:41:34,177] Trial 34 finished with value: 0.0011651743196238735 and parameters: {'learning_rate': 0.07099868959073709, 'num_leaves': 2182, 'max_depth': 16, 'min_child_samples': 49, 'subsample': 0.6585352006338395, 'colsample_bytree': 0.43280889664618816, 'reg_alpha': 0.005926701598063237, 'reg_lambda': 7.105665536369816e-07}. Best is trial 34 with value: 0.0011651743196238735.\n",
            "/usr/local/lib/python3.12/dist-packages/sklearn/utils/validation.py:2739: UserWarning: X does not have valid feature names, but LGBMRegressor was fitted with feature names\n",
            "  warnings.warn(\n",
            "[I 2025-09-11 14:42:15,409] Trial 35 finished with value: 0.001166288710787025 and parameters: {'learning_rate': 0.06480452604384702, 'num_leaves': 2205, 'max_depth': 16, 'min_child_samples': 48, 'subsample': 0.6517648728873356, 'colsample_bytree': 0.4850416410978297, 'reg_alpha': 0.005365693628759858, 'reg_lambda': 8.088243682064856e-07}. Best is trial 34 with value: 0.0011651743196238735.\n",
            "/usr/local/lib/python3.12/dist-packages/sklearn/utils/validation.py:2739: UserWarning: X does not have valid feature names, but LGBMRegressor was fitted with feature names\n",
            "  warnings.warn(\n",
            "[I 2025-09-11 14:43:04,117] Trial 36 finished with value: 0.001238533044884537 and parameters: {'learning_rate': 0.022772271779156434, 'num_leaves': 2237, 'max_depth': 16, 'min_child_samples': 51, 'subsample': 0.6410152662643693, 'colsample_bytree': 0.46367909149488146, 'reg_alpha': 0.006126202500842274, 'reg_lambda': 1.7788618901886682e-06}. Best is trial 34 with value: 0.0011651743196238735.\n",
            "/usr/local/lib/python3.12/dist-packages/sklearn/utils/validation.py:2739: UserWarning: X does not have valid feature names, but LGBMRegressor was fitted with feature names\n",
            "  warnings.warn(\n",
            "[I 2025-09-11 14:44:27,801] Trial 37 finished with value: 0.0013322528292021385 and parameters: {'learning_rate': 0.009086330314269635, 'num_leaves': 2574, 'max_depth': 16, 'min_child_samples': 37, 'subsample': 0.6692545488951492, 'colsample_bytree': 0.4024869446236873, 'reg_alpha': 0.0008361193780400463, 'reg_lambda': 4.3639851618615485e-07}. Best is trial 34 with value: 0.0011651743196238735.\n",
            "/usr/local/lib/python3.12/dist-packages/sklearn/utils/validation.py:2739: UserWarning: X does not have valid feature names, but LGBMRegressor was fitted with feature names\n",
            "  warnings.warn(\n",
            "[I 2025-09-11 14:44:59,255] Trial 38 finished with value: 0.0012507993162775202 and parameters: {'learning_rate': 0.040796642409057504, 'num_leaves': 2793, 'max_depth': 11, 'min_child_samples': 43, 'subsample': 0.7276768519934915, 'colsample_bytree': 0.5646620675198439, 'reg_alpha': 0.00031328760495628384, 'reg_lambda': 5.32743903433577e-08}. Best is trial 34 with value: 0.0011651743196238735.\n",
            "/usr/local/lib/python3.12/dist-packages/sklearn/utils/validation.py:2739: UserWarning: X does not have valid feature names, but LGBMRegressor was fitted with feature names\n",
            "  warnings.warn(\n",
            "[I 2025-09-11 14:45:55,000] Trial 39 finished with value: 0.0011642173599336414 and parameters: {'learning_rate': 0.06467610463603458, 'num_leaves': 2135, 'max_depth': 16, 'min_child_samples': 21, 'subsample': 0.7020846205137091, 'colsample_bytree': 0.49648195583820204, 'reg_alpha': 0.0020593218795383985, 'reg_lambda': 6.296526369391478e-06}. Best is trial 39 with value: 0.0011642173599336414.\n",
            "/usr/local/lib/python3.12/dist-packages/sklearn/utils/validation.py:2739: UserWarning: X does not have valid feature names, but LGBMRegressor was fitted with feature names\n",
            "  warnings.warn(\n",
            "[I 2025-09-11 14:47:35,961] Trial 40 finished with value: 0.0012281786678999338 and parameters: {'learning_rate': 0.011730157762257066, 'num_leaves': 1757, 'max_depth': 16, 'min_child_samples': 19, 'subsample': 0.6999148584176511, 'colsample_bytree': 0.6470079235233008, 'reg_alpha': 0.0025102466315529808, 'reg_lambda': 5.815751896200575e-06}. Best is trial 39 with value: 0.0011642173599336414.\n",
            "/usr/local/lib/python3.12/dist-packages/sklearn/utils/validation.py:2739: UserWarning: X does not have valid feature names, but LGBMRegressor was fitted with feature names\n",
            "  warnings.warn(\n",
            "[I 2025-09-11 14:48:22,677] Trial 41 finished with value: 0.0011593130953688991 and parameters: {'learning_rate': 0.06601003175532762, 'num_leaves': 2177, 'max_depth': 15, 'min_child_samples': 34, 'subsample': 0.6516317674940865, 'colsample_bytree': 0.494793226758739, 'reg_alpha': 0.01986681931107368, 'reg_lambda': 1.1053944109689806e-06}. Best is trial 41 with value: 0.0011593130953688991.\n",
            "/usr/local/lib/python3.12/dist-packages/sklearn/utils/validation.py:2739: UserWarning: X does not have valid feature names, but LGBMRegressor was fitted with feature names\n",
            "  warnings.warn(\n",
            "[I 2025-09-11 14:49:13,876] Trial 42 finished with value: 0.0011607718902300814 and parameters: {'learning_rate': 0.06641680581064854, 'num_leaves': 2131, 'max_depth': 16, 'min_child_samples': 34, 'subsample': 0.6542718486672617, 'colsample_bytree': 0.5360910789497684, 'reg_alpha': 0.0009200813493015551, 'reg_lambda': 9.703939720487177e-07}. Best is trial 41 with value: 0.0011593130953688991.\n",
            "/usr/local/lib/python3.12/dist-packages/sklearn/utils/validation.py:2739: UserWarning: X does not have valid feature names, but LGBMRegressor was fitted with feature names\n",
            "  warnings.warn(\n",
            "[I 2025-09-11 14:50:09,365] Trial 43 finished with value: 0.001165721865512708 and parameters: {'learning_rate': 0.06220538887185698, 'num_leaves': 2148, 'max_depth': 16, 'min_child_samples': 25, 'subsample': 0.6428232705369191, 'colsample_bytree': 0.5333234691479577, 'reg_alpha': 7.132018650395817e-05, 'reg_lambda': 7.888817745647637e-07}. Best is trial 41 with value: 0.0011593130953688991.\n",
            "/usr/local/lib/python3.12/dist-packages/sklearn/utils/validation.py:2739: UserWarning: X does not have valid feature names, but LGBMRegressor was fitted with feature names\n",
            "  warnings.warn(\n",
            "[I 2025-09-11 14:51:10,082] Trial 44 finished with value: 0.0012042541085422035 and parameters: {'learning_rate': 0.0211310996632442, 'num_leaves': 2080, 'max_depth': 16, 'min_child_samples': 33, 'subsample': 0.6046972563485045, 'colsample_bytree': 0.5274109970601378, 'reg_alpha': 6.27291175965985e-05, 'reg_lambda': 8.915385683737877e-07}. Best is trial 41 with value: 0.0011593130953688991.\n",
            "/usr/local/lib/python3.12/dist-packages/sklearn/utils/validation.py:2739: UserWarning: X does not have valid feature names, but LGBMRegressor was fitted with feature names\n",
            "  warnings.warn(\n",
            "[I 2025-09-11 14:52:44,886] Trial 45 finished with value: 0.0011425864340055768 and parameters: {'learning_rate': 0.03409048416376712, 'num_leaves': 1580, 'max_depth': 16, 'min_child_samples': 6, 'subsample': 0.5815531480601378, 'colsample_bytree': 0.5809856796376736, 'reg_alpha': 1.843498682685304e-05, 'reg_lambda': 2.463380415921482e-08}. Best is trial 45 with value: 0.0011425864340055768.\n",
            "/usr/local/lib/python3.12/dist-packages/sklearn/utils/validation.py:2739: UserWarning: X does not have valid feature names, but LGBMRegressor was fitted with feature names\n",
            "  warnings.warn(\n",
            "[I 2025-09-11 14:53:52,425] Trial 46 finished with value: 0.0011408651993588532 and parameters: {'learning_rate': 0.037150642557572236, 'num_leaves': 1569, 'max_depth': 13, 'min_child_samples': 6, 'subsample': 0.5589418720185837, 'colsample_bytree': 0.5823944081971174, 'reg_alpha': 0.0007226150527033457, 'reg_lambda': 5.199538743639425}. Best is trial 46 with value: 0.0011408651993588532.\n",
            "/usr/local/lib/python3.12/dist-packages/sklearn/utils/validation.py:2739: UserWarning: X does not have valid feature names, but LGBMRegressor was fitted with feature names\n",
            "  warnings.warn(\n",
            "[I 2025-09-11 14:55:03,132] Trial 47 finished with value: 0.0011423410481372995 and parameters: {'learning_rate': 0.03830258108806232, 'num_leaves': 1549, 'max_depth': 13, 'min_child_samples': 5, 'subsample': 0.5655876426033718, 'colsample_bytree': 0.583194465618621, 'reg_alpha': 2.2897902924388528e-05, 'reg_lambda': 5.587070539812758}. Best is trial 46 with value: 0.0011408651993588532.\n",
            "/usr/local/lib/python3.12/dist-packages/sklearn/utils/validation.py:2739: UserWarning: X does not have valid feature names, but LGBMRegressor was fitted with feature names\n",
            "  warnings.warn(\n",
            "[I 2025-09-11 14:56:12,359] Trial 48 finished with value: 0.0011426937296638744 and parameters: {'learning_rate': 0.03610814873852486, 'num_leaves': 1571, 'max_depth': 13, 'min_child_samples': 5, 'subsample': 0.5547107164092266, 'colsample_bytree': 0.589901154274358, 'reg_alpha': 1.729333371151794e-05, 'reg_lambda': 7.592983187784573}. Best is trial 46 with value: 0.0011408651993588532.\n",
            "/usr/local/lib/python3.12/dist-packages/sklearn/utils/validation.py:2739: UserWarning: X does not have valid feature names, but LGBMRegressor was fitted with feature names\n",
            "  warnings.warn(\n",
            "[I 2025-09-11 14:57:03,896] Trial 49 finished with value: 0.0013453787961239634 and parameters: {'learning_rate': 0.017856251548221878, 'num_leaves': 1521, 'max_depth': 11, 'min_child_samples': 5, 'subsample': 0.5544566080202569, 'colsample_bytree': 0.5790863660586103, 'reg_alpha': 1.650571000649197e-05, 'reg_lambda': 8.514138077577451}. Best is trial 46 with value: 0.0011408651993588532.\n"
          ]
        }
      ]
    },
    {
      "cell_type": "code",
      "source": [
        "print(\"Best MSE (validation):\", study.best_value)\n",
        "print(\"Best params:\")\n",
        "for k, v in study.best_params.items():\n",
        "    print(f\"  {k}: {v}\")"
      ],
      "metadata": {
        "colab": {
          "base_uri": "https://localhost:8080/"
        },
        "id": "eqXQnJib66-y",
        "outputId": "6994bd35-dc2d-4209-c78e-604b3650815f"
      },
      "execution_count": null,
      "outputs": [
        {
          "output_type": "stream",
          "name": "stdout",
          "text": [
            "Best MSE (validation): 0.0011408651993588532\n",
            "Best params:\n",
            "  learning_rate: 0.037150642557572236\n",
            "  num_leaves: 1569\n",
            "  max_depth: 13\n",
            "  min_child_samples: 6\n",
            "  subsample: 0.5589418720185837\n",
            "  colsample_bytree: 0.5823944081971174\n",
            "  reg_alpha: 0.0007226150527033457\n",
            "  reg_lambda: 5.199538743639425\n"
          ]
        }
      ]
    },
    {
      "cell_type": "code",
      "source": [
        "best_params = study.best_params\n",
        "best_params.update({'n_estimators': 2000, 'random_state': 42, 'verbosity': -1})\n",
        "final_model = LGBMRegressor(**best_params)"
      ],
      "metadata": {
        "id": "bJeJY-wi9Zg5"
      },
      "execution_count": null,
      "outputs": []
    },
    {
      "cell_type": "code",
      "source": [
        "import lightgbm as lgb\n",
        "\n",
        "callbacks = [lgb.early_stopping(stopping_rounds=50, verbose=False)]\n",
        "\n",
        "final_model.fit(\n",
        "    X_train_trans, y_train,\n",
        "    eval_set=[(X_valid_trans, y_valid)],\n",
        "    eval_metric='rmse',\n",
        "    callbacks=callbacks,\n",
        ")"
      ],
      "metadata": {
        "colab": {
          "base_uri": "https://localhost:8080/",
          "height": 167
        },
        "id": "JnLtquEY9gDZ",
        "outputId": "f2640590-bb96-413a-b417-937ba0121951"
      },
      "execution_count": null,
      "outputs": [
        {
          "output_type": "execute_result",
          "data": {
            "text/plain": [
              "LGBMRegressor(colsample_bytree=0.5823944081971174,\n",
              "              learning_rate=0.037150642557572236, max_depth=13,\n",
              "              min_child_samples=6, n_estimators=2000, num_leaves=1569,\n",
              "              random_state=42, reg_alpha=0.0007226150527033457,\n",
              "              reg_lambda=5.199538743639425, subsample=0.5589418720185837,\n",
              "              verbosity=-1)"
            ],
            "text/html": [
              "<style>#sk-container-id-1 {\n",
              "  /* Definition of color scheme common for light and dark mode */\n",
              "  --sklearn-color-text: #000;\n",
              "  --sklearn-color-text-muted: #666;\n",
              "  --sklearn-color-line: gray;\n",
              "  /* Definition of color scheme for unfitted estimators */\n",
              "  --sklearn-color-unfitted-level-0: #fff5e6;\n",
              "  --sklearn-color-unfitted-level-1: #f6e4d2;\n",
              "  --sklearn-color-unfitted-level-2: #ffe0b3;\n",
              "  --sklearn-color-unfitted-level-3: chocolate;\n",
              "  /* Definition of color scheme for fitted estimators */\n",
              "  --sklearn-color-fitted-level-0: #f0f8ff;\n",
              "  --sklearn-color-fitted-level-1: #d4ebff;\n",
              "  --sklearn-color-fitted-level-2: #b3dbfd;\n",
              "  --sklearn-color-fitted-level-3: cornflowerblue;\n",
              "\n",
              "  /* Specific color for light theme */\n",
              "  --sklearn-color-text-on-default-background: var(--sg-text-color, var(--theme-code-foreground, var(--jp-content-font-color1, black)));\n",
              "  --sklearn-color-background: var(--sg-background-color, var(--theme-background, var(--jp-layout-color0, white)));\n",
              "  --sklearn-color-border-box: var(--sg-text-color, var(--theme-code-foreground, var(--jp-content-font-color1, black)));\n",
              "  --sklearn-color-icon: #696969;\n",
              "\n",
              "  @media (prefers-color-scheme: dark) {\n",
              "    /* Redefinition of color scheme for dark theme */\n",
              "    --sklearn-color-text-on-default-background: var(--sg-text-color, var(--theme-code-foreground, var(--jp-content-font-color1, white)));\n",
              "    --sklearn-color-background: var(--sg-background-color, var(--theme-background, var(--jp-layout-color0, #111)));\n",
              "    --sklearn-color-border-box: var(--sg-text-color, var(--theme-code-foreground, var(--jp-content-font-color1, white)));\n",
              "    --sklearn-color-icon: #878787;\n",
              "  }\n",
              "}\n",
              "\n",
              "#sk-container-id-1 {\n",
              "  color: var(--sklearn-color-text);\n",
              "}\n",
              "\n",
              "#sk-container-id-1 pre {\n",
              "  padding: 0;\n",
              "}\n",
              "\n",
              "#sk-container-id-1 input.sk-hidden--visually {\n",
              "  border: 0;\n",
              "  clip: rect(1px 1px 1px 1px);\n",
              "  clip: rect(1px, 1px, 1px, 1px);\n",
              "  height: 1px;\n",
              "  margin: -1px;\n",
              "  overflow: hidden;\n",
              "  padding: 0;\n",
              "  position: absolute;\n",
              "  width: 1px;\n",
              "}\n",
              "\n",
              "#sk-container-id-1 div.sk-dashed-wrapped {\n",
              "  border: 1px dashed var(--sklearn-color-line);\n",
              "  margin: 0 0.4em 0.5em 0.4em;\n",
              "  box-sizing: border-box;\n",
              "  padding-bottom: 0.4em;\n",
              "  background-color: var(--sklearn-color-background);\n",
              "}\n",
              "\n",
              "#sk-container-id-1 div.sk-container {\n",
              "  /* jupyter's `normalize.less` sets `[hidden] { display: none; }`\n",
              "     but bootstrap.min.css set `[hidden] { display: none !important; }`\n",
              "     so we also need the `!important` here to be able to override the\n",
              "     default hidden behavior on the sphinx rendered scikit-learn.org.\n",
              "     See: https://github.com/scikit-learn/scikit-learn/issues/21755 */\n",
              "  display: inline-block !important;\n",
              "  position: relative;\n",
              "}\n",
              "\n",
              "#sk-container-id-1 div.sk-text-repr-fallback {\n",
              "  display: none;\n",
              "}\n",
              "\n",
              "div.sk-parallel-item,\n",
              "div.sk-serial,\n",
              "div.sk-item {\n",
              "  /* draw centered vertical line to link estimators */\n",
              "  background-image: linear-gradient(var(--sklearn-color-text-on-default-background), var(--sklearn-color-text-on-default-background));\n",
              "  background-size: 2px 100%;\n",
              "  background-repeat: no-repeat;\n",
              "  background-position: center center;\n",
              "}\n",
              "\n",
              "/* Parallel-specific style estimator block */\n",
              "\n",
              "#sk-container-id-1 div.sk-parallel-item::after {\n",
              "  content: \"\";\n",
              "  width: 100%;\n",
              "  border-bottom: 2px solid var(--sklearn-color-text-on-default-background);\n",
              "  flex-grow: 1;\n",
              "}\n",
              "\n",
              "#sk-container-id-1 div.sk-parallel {\n",
              "  display: flex;\n",
              "  align-items: stretch;\n",
              "  justify-content: center;\n",
              "  background-color: var(--sklearn-color-background);\n",
              "  position: relative;\n",
              "}\n",
              "\n",
              "#sk-container-id-1 div.sk-parallel-item {\n",
              "  display: flex;\n",
              "  flex-direction: column;\n",
              "}\n",
              "\n",
              "#sk-container-id-1 div.sk-parallel-item:first-child::after {\n",
              "  align-self: flex-end;\n",
              "  width: 50%;\n",
              "}\n",
              "\n",
              "#sk-container-id-1 div.sk-parallel-item:last-child::after {\n",
              "  align-self: flex-start;\n",
              "  width: 50%;\n",
              "}\n",
              "\n",
              "#sk-container-id-1 div.sk-parallel-item:only-child::after {\n",
              "  width: 0;\n",
              "}\n",
              "\n",
              "/* Serial-specific style estimator block */\n",
              "\n",
              "#sk-container-id-1 div.sk-serial {\n",
              "  display: flex;\n",
              "  flex-direction: column;\n",
              "  align-items: center;\n",
              "  background-color: var(--sklearn-color-background);\n",
              "  padding-right: 1em;\n",
              "  padding-left: 1em;\n",
              "}\n",
              "\n",
              "\n",
              "/* Toggleable style: style used for estimator/Pipeline/ColumnTransformer box that is\n",
              "clickable and can be expanded/collapsed.\n",
              "- Pipeline and ColumnTransformer use this feature and define the default style\n",
              "- Estimators will overwrite some part of the style using the `sk-estimator` class\n",
              "*/\n",
              "\n",
              "/* Pipeline and ColumnTransformer style (default) */\n",
              "\n",
              "#sk-container-id-1 div.sk-toggleable {\n",
              "  /* Default theme specific background. It is overwritten whether we have a\n",
              "  specific estimator or a Pipeline/ColumnTransformer */\n",
              "  background-color: var(--sklearn-color-background);\n",
              "}\n",
              "\n",
              "/* Toggleable label */\n",
              "#sk-container-id-1 label.sk-toggleable__label {\n",
              "  cursor: pointer;\n",
              "  display: flex;\n",
              "  width: 100%;\n",
              "  margin-bottom: 0;\n",
              "  padding: 0.5em;\n",
              "  box-sizing: border-box;\n",
              "  text-align: center;\n",
              "  align-items: start;\n",
              "  justify-content: space-between;\n",
              "  gap: 0.5em;\n",
              "}\n",
              "\n",
              "#sk-container-id-1 label.sk-toggleable__label .caption {\n",
              "  font-size: 0.6rem;\n",
              "  font-weight: lighter;\n",
              "  color: var(--sklearn-color-text-muted);\n",
              "}\n",
              "\n",
              "#sk-container-id-1 label.sk-toggleable__label-arrow:before {\n",
              "  /* Arrow on the left of the label */\n",
              "  content: \"▸\";\n",
              "  float: left;\n",
              "  margin-right: 0.25em;\n",
              "  color: var(--sklearn-color-icon);\n",
              "}\n",
              "\n",
              "#sk-container-id-1 label.sk-toggleable__label-arrow:hover:before {\n",
              "  color: var(--sklearn-color-text);\n",
              "}\n",
              "\n",
              "/* Toggleable content - dropdown */\n",
              "\n",
              "#sk-container-id-1 div.sk-toggleable__content {\n",
              "  max-height: 0;\n",
              "  max-width: 0;\n",
              "  overflow: hidden;\n",
              "  text-align: left;\n",
              "  /* unfitted */\n",
              "  background-color: var(--sklearn-color-unfitted-level-0);\n",
              "}\n",
              "\n",
              "#sk-container-id-1 div.sk-toggleable__content.fitted {\n",
              "  /* fitted */\n",
              "  background-color: var(--sklearn-color-fitted-level-0);\n",
              "}\n",
              "\n",
              "#sk-container-id-1 div.sk-toggleable__content pre {\n",
              "  margin: 0.2em;\n",
              "  border-radius: 0.25em;\n",
              "  color: var(--sklearn-color-text);\n",
              "  /* unfitted */\n",
              "  background-color: var(--sklearn-color-unfitted-level-0);\n",
              "}\n",
              "\n",
              "#sk-container-id-1 div.sk-toggleable__content.fitted pre {\n",
              "  /* unfitted */\n",
              "  background-color: var(--sklearn-color-fitted-level-0);\n",
              "}\n",
              "\n",
              "#sk-container-id-1 input.sk-toggleable__control:checked~div.sk-toggleable__content {\n",
              "  /* Expand drop-down */\n",
              "  max-height: 200px;\n",
              "  max-width: 100%;\n",
              "  overflow: auto;\n",
              "}\n",
              "\n",
              "#sk-container-id-1 input.sk-toggleable__control:checked~label.sk-toggleable__label-arrow:before {\n",
              "  content: \"▾\";\n",
              "}\n",
              "\n",
              "/* Pipeline/ColumnTransformer-specific style */\n",
              "\n",
              "#sk-container-id-1 div.sk-label input.sk-toggleable__control:checked~label.sk-toggleable__label {\n",
              "  color: var(--sklearn-color-text);\n",
              "  background-color: var(--sklearn-color-unfitted-level-2);\n",
              "}\n",
              "\n",
              "#sk-container-id-1 div.sk-label.fitted input.sk-toggleable__control:checked~label.sk-toggleable__label {\n",
              "  background-color: var(--sklearn-color-fitted-level-2);\n",
              "}\n",
              "\n",
              "/* Estimator-specific style */\n",
              "\n",
              "/* Colorize estimator box */\n",
              "#sk-container-id-1 div.sk-estimator input.sk-toggleable__control:checked~label.sk-toggleable__label {\n",
              "  /* unfitted */\n",
              "  background-color: var(--sklearn-color-unfitted-level-2);\n",
              "}\n",
              "\n",
              "#sk-container-id-1 div.sk-estimator.fitted input.sk-toggleable__control:checked~label.sk-toggleable__label {\n",
              "  /* fitted */\n",
              "  background-color: var(--sklearn-color-fitted-level-2);\n",
              "}\n",
              "\n",
              "#sk-container-id-1 div.sk-label label.sk-toggleable__label,\n",
              "#sk-container-id-1 div.sk-label label {\n",
              "  /* The background is the default theme color */\n",
              "  color: var(--sklearn-color-text-on-default-background);\n",
              "}\n",
              "\n",
              "/* On hover, darken the color of the background */\n",
              "#sk-container-id-1 div.sk-label:hover label.sk-toggleable__label {\n",
              "  color: var(--sklearn-color-text);\n",
              "  background-color: var(--sklearn-color-unfitted-level-2);\n",
              "}\n",
              "\n",
              "/* Label box, darken color on hover, fitted */\n",
              "#sk-container-id-1 div.sk-label.fitted:hover label.sk-toggleable__label.fitted {\n",
              "  color: var(--sklearn-color-text);\n",
              "  background-color: var(--sklearn-color-fitted-level-2);\n",
              "}\n",
              "\n",
              "/* Estimator label */\n",
              "\n",
              "#sk-container-id-1 div.sk-label label {\n",
              "  font-family: monospace;\n",
              "  font-weight: bold;\n",
              "  display: inline-block;\n",
              "  line-height: 1.2em;\n",
              "}\n",
              "\n",
              "#sk-container-id-1 div.sk-label-container {\n",
              "  text-align: center;\n",
              "}\n",
              "\n",
              "/* Estimator-specific */\n",
              "#sk-container-id-1 div.sk-estimator {\n",
              "  font-family: monospace;\n",
              "  border: 1px dotted var(--sklearn-color-border-box);\n",
              "  border-radius: 0.25em;\n",
              "  box-sizing: border-box;\n",
              "  margin-bottom: 0.5em;\n",
              "  /* unfitted */\n",
              "  background-color: var(--sklearn-color-unfitted-level-0);\n",
              "}\n",
              "\n",
              "#sk-container-id-1 div.sk-estimator.fitted {\n",
              "  /* fitted */\n",
              "  background-color: var(--sklearn-color-fitted-level-0);\n",
              "}\n",
              "\n",
              "/* on hover */\n",
              "#sk-container-id-1 div.sk-estimator:hover {\n",
              "  /* unfitted */\n",
              "  background-color: var(--sklearn-color-unfitted-level-2);\n",
              "}\n",
              "\n",
              "#sk-container-id-1 div.sk-estimator.fitted:hover {\n",
              "  /* fitted */\n",
              "  background-color: var(--sklearn-color-fitted-level-2);\n",
              "}\n",
              "\n",
              "/* Specification for estimator info (e.g. \"i\" and \"?\") */\n",
              "\n",
              "/* Common style for \"i\" and \"?\" */\n",
              "\n",
              ".sk-estimator-doc-link,\n",
              "a:link.sk-estimator-doc-link,\n",
              "a:visited.sk-estimator-doc-link {\n",
              "  float: right;\n",
              "  font-size: smaller;\n",
              "  line-height: 1em;\n",
              "  font-family: monospace;\n",
              "  background-color: var(--sklearn-color-background);\n",
              "  border-radius: 1em;\n",
              "  height: 1em;\n",
              "  width: 1em;\n",
              "  text-decoration: none !important;\n",
              "  margin-left: 0.5em;\n",
              "  text-align: center;\n",
              "  /* unfitted */\n",
              "  border: var(--sklearn-color-unfitted-level-1) 1pt solid;\n",
              "  color: var(--sklearn-color-unfitted-level-1);\n",
              "}\n",
              "\n",
              ".sk-estimator-doc-link.fitted,\n",
              "a:link.sk-estimator-doc-link.fitted,\n",
              "a:visited.sk-estimator-doc-link.fitted {\n",
              "  /* fitted */\n",
              "  border: var(--sklearn-color-fitted-level-1) 1pt solid;\n",
              "  color: var(--sklearn-color-fitted-level-1);\n",
              "}\n",
              "\n",
              "/* On hover */\n",
              "div.sk-estimator:hover .sk-estimator-doc-link:hover,\n",
              ".sk-estimator-doc-link:hover,\n",
              "div.sk-label-container:hover .sk-estimator-doc-link:hover,\n",
              ".sk-estimator-doc-link:hover {\n",
              "  /* unfitted */\n",
              "  background-color: var(--sklearn-color-unfitted-level-3);\n",
              "  color: var(--sklearn-color-background);\n",
              "  text-decoration: none;\n",
              "}\n",
              "\n",
              "div.sk-estimator.fitted:hover .sk-estimator-doc-link.fitted:hover,\n",
              ".sk-estimator-doc-link.fitted:hover,\n",
              "div.sk-label-container:hover .sk-estimator-doc-link.fitted:hover,\n",
              ".sk-estimator-doc-link.fitted:hover {\n",
              "  /* fitted */\n",
              "  background-color: var(--sklearn-color-fitted-level-3);\n",
              "  color: var(--sklearn-color-background);\n",
              "  text-decoration: none;\n",
              "}\n",
              "\n",
              "/* Span, style for the box shown on hovering the info icon */\n",
              ".sk-estimator-doc-link span {\n",
              "  display: none;\n",
              "  z-index: 9999;\n",
              "  position: relative;\n",
              "  font-weight: normal;\n",
              "  right: .2ex;\n",
              "  padding: .5ex;\n",
              "  margin: .5ex;\n",
              "  width: min-content;\n",
              "  min-width: 20ex;\n",
              "  max-width: 50ex;\n",
              "  color: var(--sklearn-color-text);\n",
              "  box-shadow: 2pt 2pt 4pt #999;\n",
              "  /* unfitted */\n",
              "  background: var(--sklearn-color-unfitted-level-0);\n",
              "  border: .5pt solid var(--sklearn-color-unfitted-level-3);\n",
              "}\n",
              "\n",
              ".sk-estimator-doc-link.fitted span {\n",
              "  /* fitted */\n",
              "  background: var(--sklearn-color-fitted-level-0);\n",
              "  border: var(--sklearn-color-fitted-level-3);\n",
              "}\n",
              "\n",
              ".sk-estimator-doc-link:hover span {\n",
              "  display: block;\n",
              "}\n",
              "\n",
              "/* \"?\"-specific style due to the `<a>` HTML tag */\n",
              "\n",
              "#sk-container-id-1 a.estimator_doc_link {\n",
              "  float: right;\n",
              "  font-size: 1rem;\n",
              "  line-height: 1em;\n",
              "  font-family: monospace;\n",
              "  background-color: var(--sklearn-color-background);\n",
              "  border-radius: 1rem;\n",
              "  height: 1rem;\n",
              "  width: 1rem;\n",
              "  text-decoration: none;\n",
              "  /* unfitted */\n",
              "  color: var(--sklearn-color-unfitted-level-1);\n",
              "  border: var(--sklearn-color-unfitted-level-1) 1pt solid;\n",
              "}\n",
              "\n",
              "#sk-container-id-1 a.estimator_doc_link.fitted {\n",
              "  /* fitted */\n",
              "  border: var(--sklearn-color-fitted-level-1) 1pt solid;\n",
              "  color: var(--sklearn-color-fitted-level-1);\n",
              "}\n",
              "\n",
              "/* On hover */\n",
              "#sk-container-id-1 a.estimator_doc_link:hover {\n",
              "  /* unfitted */\n",
              "  background-color: var(--sklearn-color-unfitted-level-3);\n",
              "  color: var(--sklearn-color-background);\n",
              "  text-decoration: none;\n",
              "}\n",
              "\n",
              "#sk-container-id-1 a.estimator_doc_link.fitted:hover {\n",
              "  /* fitted */\n",
              "  background-color: var(--sklearn-color-fitted-level-3);\n",
              "}\n",
              "</style><div id=\"sk-container-id-1\" class=\"sk-top-container\"><div class=\"sk-text-repr-fallback\"><pre>LGBMRegressor(colsample_bytree=0.5823944081971174,\n",
              "              learning_rate=0.037150642557572236, max_depth=13,\n",
              "              min_child_samples=6, n_estimators=2000, num_leaves=1569,\n",
              "              random_state=42, reg_alpha=0.0007226150527033457,\n",
              "              reg_lambda=5.199538743639425, subsample=0.5589418720185837,\n",
              "              verbosity=-1)</pre><b>In a Jupyter environment, please rerun this cell to show the HTML representation or trust the notebook. <br />On GitHub, the HTML representation is unable to render, please try loading this page with nbviewer.org.</b></div><div class=\"sk-container\" hidden><div class=\"sk-item\"><div class=\"sk-estimator fitted sk-toggleable\"><input class=\"sk-toggleable__control sk-hidden--visually\" id=\"sk-estimator-id-1\" type=\"checkbox\" checked><label for=\"sk-estimator-id-1\" class=\"sk-toggleable__label fitted sk-toggleable__label-arrow\"><div><div>LGBMRegressor</div></div><div><span class=\"sk-estimator-doc-link fitted\">i<span>Fitted</span></span></div></label><div class=\"sk-toggleable__content fitted\"><pre>LGBMRegressor(colsample_bytree=0.5823944081971174,\n",
              "              learning_rate=0.037150642557572236, max_depth=13,\n",
              "              min_child_samples=6, n_estimators=2000, num_leaves=1569,\n",
              "              random_state=42, reg_alpha=0.0007226150527033457,\n",
              "              reg_lambda=5.199538743639425, subsample=0.5589418720185837,\n",
              "              verbosity=-1)</pre></div> </div></div></div></div>"
            ]
          },
          "metadata": {},
          "execution_count": 25
        }
      ]
    },
    {
      "cell_type": "code",
      "source": [
        "# Evaluate on validation\n",
        "y_pred = final_model.predict(X_valid_trans)\n",
        "mse_final = mean_squared_error(y_valid, y_pred)\n",
        "rmse_final = np.sqrt(mse_final)\n",
        "r2_final = r2_score(y_valid, y_pred)"
      ],
      "metadata": {
        "colab": {
          "base_uri": "https://localhost:8080/"
        },
        "id": "Fex_x-6f9lI4",
        "outputId": "55f709c2-5ff6-4cfe-fce5-ce9fec41f852"
      },
      "execution_count": null,
      "outputs": [
        {
          "output_type": "stream",
          "name": "stderr",
          "text": [
            "/usr/local/lib/python3.12/dist-packages/sklearn/utils/validation.py:2739: UserWarning: X does not have valid feature names, but LGBMRegressor was fitted with feature names\n",
            "  warnings.warn(\n"
          ]
        }
      ]
    },
    {
      "cell_type": "code",
      "source": [
        "print(\"Final Optuna-tuned LightGBM results on validation set:\")\n",
        "print(f\"MSE: {mse_final:.6f}\")\n",
        "print(f\"RMSE: {rmse_final:.6f}\")\n",
        "print(f\"R2: {r2_final:.6f}\")"
      ],
      "metadata": {
        "colab": {
          "base_uri": "https://localhost:8080/"
        },
        "id": "qE22UEjE9lBo",
        "outputId": "0739296e-12de-4661-d592-d462429cb6c3"
      },
      "execution_count": null,
      "outputs": [
        {
          "output_type": "stream",
          "name": "stdout",
          "text": [
            "Final Optuna-tuned LightGBM results on validation set:\n",
            "MSE: 0.001110\n",
            "RMSE: 0.033316\n",
            "R2: 0.970431\n"
          ]
        }
      ]
    },
    {
      "cell_type": "code",
      "source": [
        "# Scatter Plot: Actual vs Predicted NDVI\n",
        "plt.figure(figsize=(8, 6))\n",
        "plt.scatter(y_valid, y_pred, alpha=0.3, color='brown')\n",
        "plt.plot([y_valid.min(), y_valid.max()],\n",
        "         [y_valid.min(), y_valid.max()],\n",
        "         'r--')\n",
        "plt.xlabel(\"Actual NDVI\")\n",
        "plt.ylabel(\"Predicted NDVI\")\n",
        "plt.title(f\"Optuna LGBM\\nRMSE: {rmse_final:.3f}, MSE: {mse_final:.3f}, R²: {r2_final:.3f}\")\n",
        "plt.tight_layout()\n",
        "plt.show()"
      ],
      "metadata": {
        "colab": {
          "base_uri": "https://localhost:8080/",
          "height": 607
        },
        "id": "9frHR9QFS5yR",
        "outputId": "158ff43c-9262-4e94-8091-ebe77b08472e"
      },
      "execution_count": null,
      "outputs": [
        {
          "output_type": "display_data",
          "data": {
            "text/plain": [
              "<Figure size 800x600 with 1 Axes>"
            ],
            "image/png": "[encoded data removed]"
          },
          "metadata": {}
        }
      ]
    },
    {
      "cell_type": "markdown",
      "source": [
        "# **Save model & preprocessing for AI API**"
      ],
      "metadata": {
        "id": "Yhn7NfPSfF9M"
      }
    },
    {
      "cell_type": "code",
      "source": [
        "import joblib\n",
        "import os\n",
        "import json"
      ],
      "metadata": {
        "id": "iI41aYgKT2mk"
      },
      "execution_count": null,
      "outputs": []
    },
    {
      "cell_type": "code",
      "source": [
        "# Create folder to save artifacts\n",
        "os.makedirs(\"model_artifacts\", exist_ok=True)"
      ],
      "metadata": {
        "id": "mpkzM1G7UGH3"
      },
      "execution_count": null,
      "outputs": []
    },
    {
      "cell_type": "code",
      "source": [
        "joblib.dump(final_model, \"model_artifacts/model.pkl\")"
      ],
      "metadata": {
        "colab": {
          "base_uri": "https://localhost:8080/"
        },
        "id": "_mfDqG7rUUP0",
        "outputId": "08cce561-c73c-4fcd-b647-eb8f4626b574"
      },
      "execution_count": null,
      "outputs": [
        {
          "output_type": "execute_result",
          "data": {
            "text/plain": [
              "['model_artifacts/model.pkl']"
            ]
          },
          "metadata": {},
          "execution_count": 36
        }
      ]
    },
    {
      "cell_type": "code",
      "source": [
        "joblib.dump(preprocessor, \"model_artifacts/preprocessor.pkl\")"
      ],
      "metadata": {
        "colab": {
          "base_uri": "https://localhost:8080/"
        },
        "id": "Oyl_lzb-Uai4",
        "outputId": "6beefeb4-13e5-4338-e8aa-6ebe378a67ee"
      },
      "execution_count": null,
      "outputs": [
        {
          "output_type": "execute_result",
          "data": {
            "text/plain": [
              "['model_artifacts/preprocessor.pkl']"
            ]
          },
          "metadata": {},
          "execution_count": 37
        }
      ]
    },
    {
      "cell_type": "code",
      "source": [
        "with open(\"model_artifacts/feature_names.json\", \"w\") as f:\n",
        "    json.dump(X.columns.tolist(), f)"
      ],
      "metadata": {
        "id": "AvJVcTGwUeqo"
      },
      "execution_count": null,
      "outputs": []
    },
    {
      "cell_type": "code",
      "source": [
        "joblib.dump(final_model, \"final_model_compressed.pkl\", compress=(\"xz\", 3))"
      ],
      "metadata": {
        "colab": {
          "base_uri": "https://localhost:8080/"
        },
        "id": "R64NtgBGUiuV",
        "outputId": "fa4072f0-e4e5-43d7-dcf3-99701f2df707"
      },
      "execution_count": null,
      "outputs": [
        {
          "output_type": "execute_result",
          "data": {
            "text/plain": [
              "['final_model_compressed.pkl']"
            ]
          },
          "metadata": {},
          "execution_count": 39
        }
      ]
    }
  ]
}