{
  "nbformat": 4,
  "nbformat_minor": 0,
  "metadata": {
    "colab": {
      "provenance": []
    },
    "kernelspec": {
      "name": "python3",
      "display_name": "Python 3"
    },
    "language_info": {
      "name": "python"
    }
  },
  "cells": [
    {
      "cell_type": "markdown",
      "source": [
        "In this notebook, we start the **data regathering process**.  \n",
        "Since the **previous modeling** highlighted some challenges, we decided to **focus first on 3 governorates only**:  \n",
        "\n",
        "- **Dakahlia**  \n",
        "- **Fayoum**  \n",
        "- **Matrouh**  \n",
        "\n",
        "The goal of this step is to **rebuild and organize the dataset** for these governorates before extending it to the full dataset (5 governorates).  \n",
        "\n",
        "This regathering process ensures that the **data is consistent, clean, and well-structured**, which will later allow the **preprocessing pipeline** and the **model training** to be applied more reliably.  \n"
      ],
      "metadata": {
        "id": "5ajYSvPOMPLQ"
      }
    },
    {
      "cell_type": "code",
      "execution_count": null,
      "metadata": {
        "colab": {
          "base_uri": "https://localhost:8080/"
        },
        "id": "qC6fp2F3w1ZU",
        "outputId": "ac2a955b-75f4-4230-b066-82cf173c2885"
      },
      "outputs": [
        {
          "output_type": "stream",
          "name": "stdout",
          "text": [
            "Drive already mounted at /content/drive; to attempt to forcibly remount, call drive.mount(\"/content/drive\", force_remount=True).\n"
          ]
        }
      ],
      "source": [
        "from google.colab import drive\n",
        "drive.mount('/content/drive')"
      ]
    },
    {
      "cell_type": "code",
      "source": [
        "import os, glob\n",
        "import pandas as pd"
      ],
      "metadata": {
        "id": "cM37vNkyw47_"
      },
      "execution_count": null,
      "outputs": []
    },
    {
      "cell_type": "code",
      "source": [
        "# Connect to drive that we have uploaded the data on\n",
        "data_path = '/content/drive/MyDrive/grad_project_data'\n",
        "files = os.listdir(data_path)\n",
        "print(len(files), \"files found\")"
      ],
      "metadata": {
        "colab": {
          "base_uri": "https://localhost:8080/"
        },
        "id": "3vqOy2exw6rC",
        "outputId": "ccd5e6d2-0370-4428-a8c2-c18ec2b78839"
      },
      "execution_count": null,
      "outputs": [
        {
          "output_type": "stream",
          "name": "stdout",
          "text": [
            "12 files found\n"
          ]
        }
      ]
    },
    {
      "cell_type": "code",
      "source": [
        "govs = ['Dakahlia', 'Fayoum', 'Matrouh']"
      ],
      "metadata": {
        "id": "CzbkycWSzxWd"
      },
      "execution_count": null,
      "outputs": []
    },
    {
      "cell_type": "code",
      "source": [
        "all_data = pd.DataFrame()"
      ],
      "metadata": {
        "id": "E3nQxRCI1ekc"
      },
      "execution_count": null,
      "outputs": []
    },
    {
      "cell_type": "code",
      "source": [
        "for gov in govs:\n",
        "    gov_path = os.path.join(data_path, gov)\n",
        "\n",
        "    csv_files = glob.glob(os.path.join(gov_path, '*.csv'))\n",
        "    print(f\"{gov}: {len(csv_files)} files\")\n",
        "\n",
        "    for file in csv_files:\n",
        "        df = pd.read_csv(file)\n",
        "        all_data = pd.concat([all_data, df], ignore_index=True)"
      ],
      "metadata": {
        "colab": {
          "base_uri": "https://localhost:8080/"
        },
        "id": "xvowtlqj1hJj",
        "outputId": "b6620388-ed53-4979-c223-df66281ab066"
      },
      "execution_count": null,
      "outputs": [
        {
          "output_type": "stream",
          "name": "stdout",
          "text": [
            "Dakahlia: 36 files\n",
            "Fayoum: 36 files\n",
            "Matrouh: 36 files\n"
          ]
        }
      ]
    },
    {
      "cell_type": "code",
      "source": [
        "print(\"Final shape:\", all_data.shape)\n",
        "all_data.head()"
      ],
      "metadata": {
        "colab": {
          "base_uri": "https://localhost:8080/",
          "height": 223
        },
        "id": "EQKTCcXe1low",
        "outputId": "906c0223-74b8-4421-8d59-bb925908f425"
      },
      "execution_count": null,
      "outputs": [
        {
          "output_type": "stream",
          "name": "stdout",
          "text": [
            "Final shape: (146136, 20)\n"
          ]
        },
        {
          "output_type": "execute_result",
          "data": {
            "text/plain": [
              "   longitude   latitude  year  month      area     ndvi      t2m_c    td2m_c  \\\n",
              "0  31.158066  30.286700  2025      1  Dakahlia  0.70215  15.561177  7.861838   \n",
              "1  31.113150  30.610094  2025      1  Dakahlia  0.51000  15.568003  8.534099   \n",
              "2  31.310780  30.295683  2025      1  Dakahlia  0.59845  15.485617  7.735447   \n",
              "3  31.256880  30.430430  2025      1  Dakahlia  0.57405  15.449718  7.959476   \n",
              "4  31.445526  30.565178  2025      1  Dakahlia  0.53560  15.528049  8.544456   \n",
              "\n",
              "      rh_pct      tp_m      ssrd_jm2  LC_Type1  sand  silt  clay  soc  ph  \\\n",
              "0  60.125874  0.015587  5.885828e+09        40   424   298   279  369  72   \n",
              "1  62.907192  0.034528  5.727603e+09        50   385   279   337  334  75   \n",
              "2  59.899883  0.014093  5.903953e+09        50   426   255   319  298  74   \n",
              "3  60.961070  0.022374  5.851018e+09        40   399   270   330  372  74   \n",
              "4  63.112797  0.024161  5.755267e+09        50   327   284   390  331  74   \n",
              "\n",
              "   bdod  cec         POP  \n",
              "0   134  195    3.509249  \n",
              "1   129  185   10.245003  \n",
              "2   131  186  157.432000  \n",
              "3   133  187   22.209887  \n",
              "4   133  190  161.653430  "
            ],
            "text/html": [
              "\n",
              "  <div id=\"df-cca672b0-0599-4947-bd47-632a52ecb5b2\" class=\"colab-df-container\">\n",
              "    <div>\n",
              "<style scoped>\n",
              "    .dataframe tbody tr th:only-of-type {\n",
              "        vertical-align: middle;\n",
              "    }\n",
              "\n",
              "    .dataframe tbody tr th {\n",
              "        vertical-align: top;\n",
              "    }\n",
              "\n",
              "    .dataframe thead th {\n",
              "        text-align: right;\n",
              "    }\n",
              "</style>\n",
              "<table border=\"1\" class=\"dataframe\">\n",
              "  <thead>\n",
              "    <tr style=\"text-align: right;\">\n",
              "      <th></th>\n",
              "      <th>longitude</th>\n",
              "      <th>latitude</th>\n",
              "      <th>year</th>\n",
              "      <th>month</th>\n",
              "      <th>area</th>\n",
              "      <th>ndvi</th>\n",
              "      <th>t2m_c</th>\n",
              "      <th>td2m_c</th>\n",
              "      <th>rh_pct</th>\n",
              "      <th>tp_m</th>\n",
              "      <th>ssrd_jm2</th>\n",
              "      <th>LC_Type1</th>\n",
              "      <th>sand</th>\n",
              "      <th>silt</th>\n",
              "      <th>clay</th>\n",
              "      <th>soc</th>\n",
              "      <th>ph</th>\n",
              "      <th>bdod</th>\n",
              "      <th>cec</th>\n",
              "      <th>POP</th>\n",
              "    </tr>\n",
              "  </thead>\n",
              "  <tbody>\n",
              "    <tr>\n",
              "      <th>0</th>\n",
              "      <td>31.158066</td>\n",
              "      <td>30.286700</td>\n",
              "      <td>2025</td>\n",
              "      <td>1</td>\n",
              "      <td>Dakahlia</td>\n",
              "      <td>0.70215</td>\n",
              "      <td>15.561177</td>\n",
              "      <td>7.861838</td>\n",
              "      <td>60.125874</td>\n",
              "      <td>0.015587</td>\n",
              "      <td>5.885828e+09</td>\n",
              "      <td>40</td>\n",
              "      <td>424</td>\n",
              "      <td>298</td>\n",
              "      <td>279</td>\n",
              "      <td>369</td>\n",
              "      <td>72</td>\n",
              "      <td>134</td>\n",
              "      <td>195</td>\n",
              "      <td>3.509249</td>\n",
              "    </tr>\n",
              "    <tr>\n",
              "      <th>1</th>\n",
              "      <td>31.113150</td>\n",
              "      <td>30.610094</td>\n",
              "      <td>2025</td>\n",
              "      <td>1</td>\n",
              "      <td>Dakahlia</td>\n",
              "      <td>0.51000</td>\n",
              "      <td>15.568003</td>\n",
              "      <td>8.534099</td>\n",
              "      <td>62.907192</td>\n",
              "      <td>0.034528</td>\n",
              "      <td>5.727603e+09</td>\n",
              "      <td>50</td>\n",
              "      <td>385</td>\n",
              "      <td>279</td>\n",
              "      <td>337</td>\n",
              "      <td>334</td>\n",
              "      <td>75</td>\n",
              "      <td>129</td>\n",
              "      <td>185</td>\n",
              "      <td>10.245003</td>\n",
              "    </tr>\n",
              "    <tr>\n",
              "      <th>2</th>\n",
              "      <td>31.310780</td>\n",
              "      <td>30.295683</td>\n",
              "      <td>2025</td>\n",
              "      <td>1</td>\n",
              "      <td>Dakahlia</td>\n",
              "      <td>0.59845</td>\n",
              "      <td>15.485617</td>\n",
              "      <td>7.735447</td>\n",
              "      <td>59.899883</td>\n",
              "      <td>0.014093</td>\n",
              "      <td>5.903953e+09</td>\n",
              "      <td>50</td>\n",
              "      <td>426</td>\n",
              "      <td>255</td>\n",
              "      <td>319</td>\n",
              "      <td>298</td>\n",
              "      <td>74</td>\n",
              "      <td>131</td>\n",
              "      <td>186</td>\n",
              "      <td>157.432000</td>\n",
              "    </tr>\n",
              "    <tr>\n",
              "      <th>3</th>\n",
              "      <td>31.256880</td>\n",
              "      <td>30.430430</td>\n",
              "      <td>2025</td>\n",
              "      <td>1</td>\n",
              "      <td>Dakahlia</td>\n",
              "      <td>0.57405</td>\n",
              "      <td>15.449718</td>\n",
              "      <td>7.959476</td>\n",
              "      <td>60.961070</td>\n",
              "      <td>0.022374</td>\n",
              "      <td>5.851018e+09</td>\n",
              "      <td>40</td>\n",
              "      <td>399</td>\n",
              "      <td>270</td>\n",
              "      <td>330</td>\n",
              "      <td>372</td>\n",
              "      <td>74</td>\n",
              "      <td>133</td>\n",
              "      <td>187</td>\n",
              "      <td>22.209887</td>\n",
              "    </tr>\n",
              "    <tr>\n",
              "      <th>4</th>\n",
              "      <td>31.445526</td>\n",
              "      <td>30.565178</td>\n",
              "      <td>2025</td>\n",
              "      <td>1</td>\n",
              "      <td>Dakahlia</td>\n",
              "      <td>0.53560</td>\n",
              "      <td>15.528049</td>\n",
              "      <td>8.544456</td>\n",
              "      <td>63.112797</td>\n",
              "      <td>0.024161</td>\n",
              "      <td>5.755267e+09</td>\n",
              "      <td>50</td>\n",
              "      <td>327</td>\n",
              "      <td>284</td>\n",
              "      <td>390</td>\n",
              "      <td>331</td>\n",
              "      <td>74</td>\n",
              "      <td>133</td>\n",
              "      <td>190</td>\n",
              "      <td>161.653430</td>\n",
              "    </tr>\n",
              "  </tbody>\n",
              "</table>\n",
              "</div>\n",
              "    <div class=\"colab-df-buttons\">\n",
              "\n",
              "  <div class=\"colab-df-container\">\n",
              "    <button class=\"colab-df-convert\" onclick=\"convertToInteractive('df-cca672b0-0599-4947-bd47-632a52ecb5b2')\"\n",
              "            title=\"Convert this dataframe to an interactive table.\"\n",
              "            style=\"display:none;\">\n",
              "\n",
              "  <svg xmlns=\"http://www.w3.org/2000/svg\" height=\"24px\" viewBox=\"0 -960 960 960\">\n",
              "    <path d=\"M120-120v-720h720v720H120Zm60-500h600v-160H180v160Zm220 220h160v-160H400v160Zm0 220h160v-160H400v160ZM180-400h160v-160H180v160Zm440 0h160v-160H620v160ZM180-180h160v-160H180v160Zm440 0h160v-160H620v160Z\"/>\n",
              "  </svg>\n",
              "    </button>\n",
              "\n",
              "  <style>\n",
              "    .colab-df-container {\n",
              "      display:flex;\n",
              "      gap: 12px;\n",
              "    }\n",
              "\n",
              "    .colab-df-convert {\n",
              "      background-color: #E8F0FE;\n",
              "      border: none;\n",
              "      border-radius: 50%;\n",
              "      cursor: pointer;\n",
              "      display: none;\n",
              "      fill: #1967D2;\n",
              "      height: 32px;\n",
              "      padding: 0 0 0 0;\n",
              "      width: 32px;\n",
              "    }\n",
              "\n",
              "    .colab-df-convert:hover {\n",
              "      background-color: #E2EBFA;\n",
              "      box-shadow: 0px 1px 2px rgba(60, 64, 67, 0.3), 0px 1px 3px 1px rgba(60, 64, 67, 0.15);\n",
              "      fill: #174EA6;\n",
              "    }\n",
              "\n",
              "    .colab-df-buttons div {\n",
              "      margin-bottom: 4px;\n",
              "    }\n",
              "\n",
              "    [theme=dark] .colab-df-convert {\n",
              "      background-color: #3B4455;\n",
              "      fill: #D2E3FC;\n",
              "    }\n",
              "\n",
              "    [theme=dark] .colab-df-convert:hover {\n",
              "      background-color: #434B5C;\n",
              "      box-shadow: 0px 1px 3px 1px rgba(0, 0, 0, 0.15);\n",
              "      filter: drop-shadow(0px 1px 2px rgba(0, 0, 0, 0.3));\n",
              "      fill: #FFFFFF;\n",
              "    }\n",
              "  </style>\n",
              "\n",
              "    <script>\n",
              "      const buttonEl =\n",
              "        document.querySelector('#df-cca672b0-0599-4947-bd47-632a52ecb5b2 button.colab-df-convert');\n",
              "      buttonEl.style.display =\n",
              "        google.colab.kernel.accessAllowed ? 'block' : 'none';\n",
              "\n",
              "      async function convertToInteractive(key) {\n",
              "        const element = document.querySelector('#df-cca672b0-0599-4947-bd47-632a52ecb5b2');\n",
              "        const dataTable =\n",
              "          await google.colab.kernel.invokeFunction('convertToInteractive',\n",
              "                                                    [key], {});\n",
              "        if (!dataTable) return;\n",
              "\n",
              "        const docLinkHtml = 'Like what you see? Visit the ' +\n",
              "          '<a target=\"_blank\" href=https://colab.research.google.com/notebooks/data_table.ipynb>data table notebook</a>'\n",
              "          + ' to learn more about interactive tables.';\n",
              "        element.innerHTML = '';\n",
              "        dataTable['output_type'] = 'display_data';\n",
              "        await google.colab.output.renderOutput(dataTable, element);\n",
              "        const docLink = document.createElement('div');\n",
              "        docLink.innerHTML = docLinkHtml;\n",
              "        element.appendChild(docLink);\n",
              "      }\n",
              "    </script>\n",
              "  </div>\n",
              "\n",
              "\n",
              "    <div id=\"df-3ce2d5a7-dd61-4112-9b17-5d888bfe2d33\">\n",
              "      <button class=\"colab-df-quickchart\" onclick=\"quickchart('df-3ce2d5a7-dd61-4112-9b17-5d888bfe2d33')\"\n",
              "                title=\"Suggest charts\"\n",
              "                style=\"display:none;\">\n",
              "\n",
              "<svg xmlns=\"http://www.w3.org/2000/svg\" height=\"24px\"viewBox=\"0 0 24 24\"\n",
              "     width=\"24px\">\n",
              "    <g>\n",
              "        <path d=\"M19 3H5c-1.1 0-2 .9-2 2v14c0 1.1.9 2 2 2h14c1.1 0 2-.9 2-2V5c0-1.1-.9-2-2-2zM9 17H7v-7h2v7zm4 0h-2V7h2v10zm4 0h-2v-4h2v4z\"/>\n",
              "    </g>\n",
              "</svg>\n",
              "      </button>\n",
              "\n",
              "<style>\n",
              "  .colab-df-quickchart {\n",
              "      --bg-color: #E8F0FE;\n",
              "      --fill-color: #1967D2;\n",
              "      --hover-bg-color: #E2EBFA;\n",
              "      --hover-fill-color: #174EA6;\n",
              "      --disabled-fill-color: #AAA;\n",
              "      --disabled-bg-color: #DDD;\n",
              "  }\n",
              "\n",
              "  [theme=dark] .colab-df-quickchart {\n",
              "      --bg-color: #3B4455;\n",
              "      --fill-color: #D2E3FC;\n",
              "      --hover-bg-color: #434B5C;\n",
              "      --hover-fill-color: #FFFFFF;\n",
              "      --disabled-bg-color: #3B4455;\n",
              "      --disabled-fill-color: #666;\n",
              "  }\n",
              "\n",
              "  .colab-df-quickchart {\n",
              "    background-color: var(--bg-color);\n",
              "    border: none;\n",
              "    border-radius: 50%;\n",
              "    cursor: pointer;\n",
              "    display: none;\n",
              "    fill: var(--fill-color);\n",
              "    height: 32px;\n",
              "    padding: 0;\n",
              "    width: 32px;\n",
              "  }\n",
              "\n",
              "  .colab-df-quickchart:hover {\n",
              "    background-color: var(--hover-bg-color);\n",
              "    box-shadow: 0 1px 2px rgba(60, 64, 67, 0.3), 0 1px 3px 1px rgba(60, 64, 67, 0.15);\n",
              "    fill: var(--button-hover-fill-color);\n",
              "  }\n",
              "\n",
              "  .colab-df-quickchart-complete:disabled,\n",
              "  .colab-df-quickchart-complete:disabled:hover {\n",
              "    background-color: var(--disabled-bg-color);\n",
              "    fill: var(--disabled-fill-color);\n",
              "    box-shadow: none;\n",
              "  }\n",
              "\n",
              "  .colab-df-spinner {\n",
              "    border: 2px solid var(--fill-color);\n",
              "    border-color: transparent;\n",
              "    border-bottom-color: var(--fill-color);\n",
              "    animation:\n",
              "      spin 1s steps(1) infinite;\n",
              "  }\n",
              "\n",
              "  @keyframes spin {\n",
              "    0% {\n",
              "      border-color: transparent;\n",
              "      border-bottom-color: var(--fill-color);\n",
              "      border-left-color: var(--fill-color);\n",
              "    }\n",
              "    20% {\n",
              "      border-color: transparent;\n",
              "      border-left-color: var(--fill-color);\n",
              "      border-top-color: var(--fill-color);\n",
              "    }\n",
              "    30% {\n",
              "      border-color: transparent;\n",
              "      border-left-color: var(--fill-color);\n",
              "      border-top-color: var(--fill-color);\n",
              "      border-right-color: var(--fill-color);\n",
              "    }\n",
              "    40% {\n",
              "      border-color: transparent;\n",
              "      border-right-color: var(--fill-color);\n",
              "      border-top-color: var(--fill-color);\n",
              "    }\n",
              "    60% {\n",
              "      border-color: transparent;\n",
              "      border-right-color: var(--fill-color);\n",
              "    }\n",
              "    80% {\n",
              "      border-color: transparent;\n",
              "      border-right-color: var(--fill-color);\n",
              "      border-bottom-color: var(--fill-color);\n",
              "    }\n",
              "    90% {\n",
              "      border-color: transparent;\n",
              "      border-bottom-color: var(--fill-color);\n",
              "    }\n",
              "  }\n",
              "</style>\n",
              "\n",
              "      <script>\n",
              "        async function quickchart(key) {\n",
              "          const quickchartButtonEl =\n",
              "            document.querySelector('#' + key + ' button');\n",
              "          quickchartButtonEl.disabled = true;  // To prevent multiple clicks.\n",
              "          quickchartButtonEl.classList.add('colab-df-spinner');\n",
              "          try {\n",
              "            const charts = await google.colab.kernel.invokeFunction(\n",
              "                'suggestCharts', [key], {});\n",
              "          } catch (error) {\n",
              "            console.error('Error during call to suggestCharts:', error);\n",
              "          }\n",
              "          quickchartButtonEl.classList.remove('colab-df-spinner');\n",
              "          quickchartButtonEl.classList.add('colab-df-quickchart-complete');\n",
              "        }\n",
              "        (() => {\n",
              "          let quickchartButtonEl =\n",
              "            document.querySelector('#df-3ce2d5a7-dd61-4112-9b17-5d888bfe2d33 button');\n",
              "          quickchartButtonEl.style.display =\n",
              "            google.colab.kernel.accessAllowed ? 'block' : 'none';\n",
              "        })();\n",
              "      </script>\n",
              "    </div>\n",
              "\n",
              "    </div>\n",
              "  </div>\n"
            ],
            "application/vnd.google.colaboratory.intrinsic+json": {
              "type": "dataframe",
              "variable_name": "all_data"
            }
          },
          "metadata": {},
          "execution_count": 12
        }
      ]
    },
    {
      "cell_type": "code",
      "source": [
        "all_data['area'].value_counts()"
      ],
      "metadata": {
        "colab": {
          "base_uri": "https://localhost:8080/",
          "height": 209
        },
        "id": "K8-uoHKO1pWP",
        "outputId": "71af595b-afd7-42d8-f469-490220c23715"
      },
      "execution_count": null,
      "outputs": [
        {
          "output_type": "execute_result",
          "data": {
            "text/plain": [
              "area\n",
              "Dakahlia    100616\n",
              "Fayoum       40140\n",
              "Matrouh       5380\n",
              "Name: count, dtype: int64"
            ],
            "text/html": [
              "<div>\n",
              "<style scoped>\n",
              "    .dataframe tbody tr th:only-of-type {\n",
              "        vertical-align: middle;\n",
              "    }\n",
              "\n",
              "    .dataframe tbody tr th {\n",
              "        vertical-align: top;\n",
              "    }\n",
              "\n",
              "    .dataframe thead th {\n",
              "        text-align: right;\n",
              "    }\n",
              "</style>\n",
              "<table border=\"1\" class=\"dataframe\">\n",
              "  <thead>\n",
              "    <tr style=\"text-align: right;\">\n",
              "      <th></th>\n",
              "      <th>count</th>\n",
              "    </tr>\n",
              "    <tr>\n",
              "      <th>area</th>\n",
              "      <th></th>\n",
              "    </tr>\n",
              "  </thead>\n",
              "  <tbody>\n",
              "    <tr>\n",
              "      <th>Dakahlia</th>\n",
              "      <td>100616</td>\n",
              "    </tr>\n",
              "    <tr>\n",
              "      <th>Fayoum</th>\n",
              "      <td>40140</td>\n",
              "    </tr>\n",
              "    <tr>\n",
              "      <th>Matrouh</th>\n",
              "      <td>5380</td>\n",
              "    </tr>\n",
              "  </tbody>\n",
              "</table>\n",
              "</div><br><label><b>dtype:</b> int64</label>"
            ]
          },
          "metadata": {},
          "execution_count": 13
        }
      ]
    },
    {
      "cell_type": "code",
      "source": [
        "# Take data where year is 2025 and not from Aug to Dec 'last 4 months in 2025' (with keeping data of 2023 & 2024)\n",
        "filtered_df = all_data[~((all_data['year'] == 2025) & (all_data['month'].between(8, 12)))]"
      ],
      "metadata": {
        "id": "ybj0DOzk19YI"
      },
      "execution_count": null,
      "outputs": []
    },
    {
      "cell_type": "code",
      "source": [
        "filtered_df.shape"
      ],
      "metadata": {
        "colab": {
          "base_uri": "https://localhost:8080/"
        },
        "id": "F_Nozumo2J5r",
        "outputId": "00bac1da-fb88-4d9d-dcc6-b69d0843ebf9"
      },
      "execution_count": null,
      "outputs": [
        {
          "output_type": "execute_result",
          "data": {
            "text/plain": [
              "(125704, 20)"
            ]
          },
          "metadata": {},
          "execution_count": 15
        }
      ]
    },
    {
      "cell_type": "code",
      "source": [
        "filtered_df.duplicated().sum()"
      ],
      "metadata": {
        "colab": {
          "base_uri": "https://localhost:8080/"
        },
        "id": "75gR3_bd2Pva",
        "outputId": "a9ed1566-e05c-45cd-ea11-28426da9d2a5"
      },
      "execution_count": null,
      "outputs": [
        {
          "output_type": "execute_result",
          "data": {
            "text/plain": [
              "np.int64(21341)"
            ]
          },
          "metadata": {},
          "execution_count": 16
        }
      ]
    },
    {
      "cell_type": "code",
      "source": [
        "des_df = filtered_df.drop_duplicates()"
      ],
      "metadata": {
        "id": "B0jJ4EyO2ToL"
      },
      "execution_count": null,
      "outputs": []
    },
    {
      "cell_type": "code",
      "source": [
        "# Save the filtered dataset\n",
        "des_df.to_csv('/content/drive/MyDrive/grad_project_data/des3_df.csv', index=False)"
      ],
      "metadata": {
        "id": "Hlv8kCPb2dBm"
      },
      "execution_count": null,
      "outputs": []
    }
  ]
}